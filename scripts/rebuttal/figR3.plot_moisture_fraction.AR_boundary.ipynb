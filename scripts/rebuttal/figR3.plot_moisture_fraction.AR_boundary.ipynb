{
 "cells": [
  {
   "cell_type": "code",
   "execution_count": 1,
   "metadata": {},
   "outputs": [],
   "source": [
    "import numpy as np\n",
    "import scipy.io as sio\n",
    "\n",
    "import matplotlib.pyplot as plt"
   ]
  },
  {
   "cell_type": "code",
   "execution_count": 72,
   "metadata": {},
   "outputs": [],
   "source": [
    "indir = '/home/chen423/.tmp/AR-SST/HIST/moisture/intermediate_data/'\n",
    "\n",
    "plotdir = '/raid1/chen423/serdp/data/paperX_analysis/AR-SST/plots/R1/'"
   ]
  },
  {
   "cell_type": "code",
   "execution_count": 73,
   "metadata": {},
   "outputs": [
    {
     "name": "stdout",
     "output_type": "stream",
     "text": [
      "2003\n",
      "2004\n",
      "2005\n",
      "2006\n",
      "2007\n",
      "2008\n",
      "2009\n",
      "2010\n",
      "2011\n",
      "2012\n",
      "2013\n",
      "2014\n",
      "2015\n"
     ]
    }
   ],
   "source": [
    "indata = np.zeros((17532, 3))\n",
    "\n",
    "sindex = 0\n",
    "eindex = 0\n",
    "\n",
    "year = 2003\n",
    "print(year)\n",
    "for month in np.arange(10,13):\n",
    "    infile = indir + 'ETratio.HIST.ARabs.%d.%d.mat' % (year, month)\n",
    "    tmpdata = sio.loadmat(infile)['array_grids'][0]\n",
    "    eindex = eindex + tmpdata.shape[0]\n",
    "    #print(year, month, sindex, eindex)\n",
    "    indata[sindex:eindex, 0] = sio.loadmat(infile)['array_grids'][0]\n",
    "    indata[sindex:eindex, 1] = sio.loadmat(infile)['array_ET'][0]\n",
    "    indata[sindex:eindex, 2] = sio.loadmat(infile)['array_uIVT'][0]\n",
    "    sindex = eindex\n",
    "    \n",
    "for year in np.arange(2004,2015):\n",
    "    print(year)\n",
    "    for month in np.arange(1,13):\n",
    "        infile = indir + 'ETratio.HIST.ARabs.%d.%d.mat' % (year, month)\n",
    "        tmpdata = sio.loadmat(infile)['array_grids'][0]\n",
    "        eindex = eindex + tmpdata.shape[0]\n",
    "        #print(year, month, sindex, eindex)\n",
    "        indata[sindex:eindex, 0] = sio.loadmat(infile)['array_grids'][0]\n",
    "        indata[sindex:eindex, 1] = sio.loadmat(infile)['array_ET'][0]\n",
    "        indata[sindex:eindex, 2] = sio.loadmat(infile)['array_uIVT'][0]\n",
    "        sindex = eindex\n",
    "        \n",
    "year = 2015\n",
    "print(year)\n",
    "for month in np.arange(1,10):\n",
    "    infile = indir + 'ETratio.HIST.ARabs.%d.%d.mat' % (year, month)\n",
    "    tmpdata = sio.loadmat(infile)['array_grids'][0]\n",
    "    eindex = eindex + tmpdata.shape[0]\n",
    "    #print(year, month, sindex, eindex)\n",
    "    indata[sindex:eindex, 0] = sio.loadmat(infile)['array_grids'][0]\n",
    "    indata[sindex:eindex, 1] = sio.loadmat(infile)['array_ET'][0]\n",
    "    indata[sindex:eindex, 2] = sio.loadmat(infile)['array_uIVT'][0]\n",
    "    sindex = eindex"
   ]
  },
  {
   "cell_type": "code",
   "execution_count": 17,
   "metadata": {},
   "outputs": [
    {
     "data": {
      "text/plain": [
       "4509"
      ]
     },
     "execution_count": 17,
     "metadata": {},
     "output_type": "execute_result"
    }
   ],
   "source": [
    "valid_index =  (indata[:,0]>3000) & ((indata[:,1]+indata[:,2])>0) & (indata[:,1]>0)\n",
    "\n",
    "valid_index.sum()"
   ]
  },
  {
   "cell_type": "code",
   "execution_count": 80,
   "metadata": {},
   "outputs": [
    {
     "name": "stdout",
     "output_type": "stream",
     "text": [
      "5.141837992367177\n"
     ]
    }
   ],
   "source": [
    "ratios = (indata[valid_index,1]/(indata[valid_index,1]+indata[valid_index,2]))*100\n",
    "\n",
    "print(ratios.mean())\n",
    "\n",
    "mois_weighted_ratio = indata[valid_index,1].sum()/(indata[valid_index,1].sum() + indata[valid_index,2].sum())*100"
   ]
  },
  {
   "cell_type": "code",
   "execution_count": 53,
   "metadata": {},
   "outputs": [],
   "source": [
    "ratio_hist, hist_bin_edge = np.histogram(ratios, bins=np.arange(0, 10.00001, 0.5))\n",
    "nbins = hist_bin_edge.shape[0]-1"
   ]
  },
  {
   "cell_type": "code",
   "execution_count": 54,
   "metadata": {},
   "outputs": [],
   "source": [
    "hist_bin_ct = (hist_bin_edge[0:nbins]+hist_bin_edge[1:(nbins+1)])/2"
   ]
  },
  {
   "cell_type": "code",
   "execution_count": 102,
   "metadata": {},
   "outputs": [
    {
     "data": {
      "image/png": "[encoded data removed]",
      "text/plain": [
       "<Figure size 432x360 with 1 Axes>"
      ]
     },
     "metadata": {
      "needs_background": "light"
     },
     "output_type": "display_data"
    }
   ],
   "source": [
    "fig1 = plt.figure(figsize=(6,5))\n",
    "\n",
    "ax1 = plt.subplot(1,1,1)\n",
    "\n",
    "#ax1.plot(hist_bin_ct, ratio_hist, color='royalblue', linestyle='--', lw=2)\n",
    "ax1.fill_between(hist_bin_ct, np.zeros(nbins), ratio_hist, color='royalblue', alpha=0.5)\n",
    "ax1.plot(np.ones(10)*ratios.mean(), np.arange(0,1600,160), color='royalblue', lw=2)\n",
    "ax1.plot(np.ones(10)*mois_weighted_ratio, np.arange(0,1600,160), color='royalblue', lw=2, linestyle='--')\n",
    "\n",
    "ax1.set_xlim([0, 10.5])\n",
    "ax1.set_ylim([0, 1400])\n",
    "\n",
    "ax1.set_xlabel('ET/(ET+IVT), in %', fontsize=14)\n",
    "ax1.set_ylabel('Frequency', fontsize=14)\n",
    "ax1.set_title('Contribution of ET in the AR moisture', fontsize=16)\n",
    "\n",
    "loc = ratios.mean()\n",
    "ax1.text(6, 1300, 'mean=%.1f%%' % loc, ha='left', va='center', fontsize=14)\n",
    "loc = mois_weighted_ratio\n",
    "ax1.text(6, 1050, 'moisture weighted\\naverage=%.1f%%' % loc, ha='left', va='center', fontsize=14)\n",
    "\n",
    "#fig1.savefig(plotdir + 'fig_R3.ET_moistuer_contrib.png', dpi=600)\n",
    "\n",
    "plt.show()\n",
    "plt.close()\n",
    "del(fig1)"
   ]
  },
  {
   "cell_type": "code",
   "execution_count": 99,
   "metadata": {},
   "outputs": [
    {
     "data": {
      "text/plain": [
       "'/raid1/chen423/serdp/data/paperX_analysis/AR-SST/plots/R1/'"
      ]
     },
     "execution_count": 99,
     "metadata": {},
     "output_type": "execute_result"
    }
   ],
   "source": [
    "plotdir"
   ]
  },
  {
   "cell_type": "code",
   "execution_count": null,
   "metadata": {},
   "outputs": [],
   "source": []
  }
 ],
 "metadata": {
  "kernelspec": {
   "display_name": "Python 3",
   "language": "python",
   "name": "python3"
  },
  "language_info": {
   "codemirror_mode": {
    "name": "ipython",
    "version": 3
   },
   "file_extension": ".py",
   "mimetype": "text/x-python",
   "name": "python",
   "nbconvert_exporter": "python",
   "pygments_lexer": "ipython3",
   "version": "3.7.6"
  }
 },
 "nbformat": 4,
 "nbformat_minor": 4
}
