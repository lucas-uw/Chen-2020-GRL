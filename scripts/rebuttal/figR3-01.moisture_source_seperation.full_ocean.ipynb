{
 "cells": [
  {
   "cell_type": "markdown",
   "metadata": {},
   "source": [
    "### only use the abs version AR\n",
    "\n",
    "#### see final script at :\n",
    "\n",
    "/pic/projects/hyperion/chen423/tools/paper_tools/AR-SST/step5.moisture_decomposition.py"
   ]
  },
  {
   "cell_type": "code",
   "execution_count": 1,
   "metadata": {},
   "outputs": [],
   "source": [
    "import numpy as np\n",
    "import xarray as xr\n",
    "\n",
    "import matplotlib.pyplot as plt"
   ]
  },
  {
   "cell_type": "code",
   "execution_count": 2,
   "metadata": {},
   "outputs": [],
   "source": [
    "scenario = 'HIST'\n",
    "\n",
    "year = 2003\n",
    "month = 10\n",
    "\n",
    "para_b = int(10)"
   ]
  },
  {
   "cell_type": "code",
   "execution_count": 3,
   "metadata": {},
   "outputs": [],
   "source": [
    "reffile = '/raid1/chen423/serdp/data/ref_data/wrf_ref/geo_em.d01.nc'\n",
    "landmask = xr.open_dataset(reffile).LANDMASK.values[0,para_b:(450-para_b),para_b:(450-para_b)]"
   ]
  },
  {
   "cell_type": "code",
   "execution_count": 4,
   "metadata": {},
   "outputs": [],
   "source": [
    "ETdir = '/home/chen423/.tmp/AR-SST/%s/moisture/ET/' % (scenario)\n",
    "uIVTdir = '/home/chen423/.tmp/AR-SST/%s/moisture/uIVT/' % (scenario)\n",
    "vIVTdir = '/home/chen423/.tmp/AR-SST/%s/moisture/vIVT/' % (scenario)\n",
    "#ARdir = '/home/chen423/.tmp/AR-SST/%s/AR_tagged/Gershunov/SERDP6km_adj/' % (scenario)"
   ]
  },
  {
   "cell_type": "code",
   "execution_count": 5,
   "metadata": {},
   "outputs": [],
   "source": [
    "ETfile = ETdir + 'WRF_NARR.%s.SFCEVP.%d.%d.nc' % (scenario, year, month)\n",
    "uIVTfile = uIVTdir + 'WRF_NARR.%s.uIVT.%d.%d.nc' % (scenario, year, month)\n",
    "vIVTfile = vIVTdir + 'WRF_NARR.%s.vIVT.%d.%d.nc' % (scenario, year, month)\n",
    "\n",
    "#ARfile = ARdir + 'WRF_ARtag_adj.%s.Gershunov.%d.%d.ARabs.nc' % (scenario, year, month)"
   ]
  },
  {
   "cell_type": "code",
   "execution_count": 6,
   "metadata": {},
   "outputs": [],
   "source": [
    "ETdata = xr.open_dataset(ETfile).SFCEVP.values[:,para_b:(450-para_b),para_b:(450-para_b)]\n",
    "uIVTdata = xr.open_dataset(uIVTfile).uIVT.values[:,para_b:(450-para_b),para_b:(450-para_b)]\n",
    "vIVTdata = xr.open_dataset(vIVTfile).vIVT.values[:,para_b:(450-para_b),para_b:(450-para_b)]\n",
    "#ARtag = xr.open_dataset(ARfile).AR_tag.values[:,para_b:(450-para_b),para_b:(450-para_b)]"
   ]
  },
  {
   "cell_type": "code",
   "execution_count": 26,
   "metadata": {},
   "outputs": [],
   "source": [
    "def compute_moisture_intensity(in_uIVT, in_vIVT, in_ET, ref_mask):\n",
    "    # refmask is landmak, land is 1, ocean is 0\n",
    "    \n",
    "    # note:\n",
    "    #      uIVT: into the domain\n",
    "    #      vIVT: bottom: into the domain;   top: away from the domain\n",
    "    \n",
    "    #uIVT_total = in_uIVT[:,0][in_ARtag[:,0]==1].sum()*6000*86400\n",
    "    uIVT_total = in_uIVT[:,0].sum()*6000*86400\n",
    "    vIVT_sub_bottom = in_vIVT[0,:][ref_mask[0,:]==0].sum()*6000*86400\n",
    "    vIVT_sub_top = in_vIVT[(450-2*para_b-1),:][ref_mask[(450-2*para_b-1),:]==0].sum()*6000*86400\n",
    "    ET_total = in_ET[(ref_mask==0)].sum()*6000*6000\n",
    "\n",
    "    return ET_total, uIVT_total, vIVT_sub_bottom, vIVT_sub_top"
   ]
  },
  {
   "cell_type": "raw",
   "metadata": {},
   "source": [
    "mask_test = np.zeros((430,430))\n",
    "mask_test[100:150,:] = 1\n",
    "plt.pcolormesh(np.ma.masked_array(vIVTdata[0], mask=mask_test))"
   ]
  },
  {
   "cell_type": "code",
   "execution_count": 27,
   "metadata": {},
   "outputs": [
    {
     "name": "stdout",
     "output_type": "stream",
     "text": [
      "0\n",
      "1\n",
      "2\n",
      "3\n",
      "4\n",
      "5\n",
      "6\n",
      "7\n",
      "8\n",
      "9\n",
      "10\n",
      "11\n",
      "12\n",
      "13\n",
      "14\n",
      "15\n",
      "16\n",
      "17\n",
      "18\n",
      "19\n",
      "20\n",
      "21\n",
      "22\n",
      "23\n",
      "24\n",
      "25\n",
      "26\n",
      "27\n",
      "28\n",
      "29\n",
      "30\n",
      "31\n",
      "32\n",
      "33\n",
      "34\n",
      "35\n",
      "36\n",
      "37\n",
      "38\n",
      "39\n",
      "40\n",
      "41\n",
      "42\n",
      "43\n",
      "44\n",
      "45\n",
      "46\n",
      "47\n",
      "48\n",
      "49\n",
      "50\n",
      "51\n",
      "52\n",
      "53\n",
      "54\n",
      "55\n",
      "56\n",
      "57\n",
      "58\n",
      "59\n",
      "60\n",
      "61\n",
      "62\n",
      "63\n",
      "64\n",
      "65\n",
      "66\n",
      "67\n",
      "68\n",
      "69\n",
      "70\n",
      "71\n",
      "72\n",
      "73\n",
      "74\n",
      "75\n",
      "76\n",
      "77\n",
      "78\n",
      "79\n",
      "80\n",
      "81\n",
      "82\n",
      "83\n",
      "84\n",
      "85\n",
      "86\n",
      "87\n",
      "88\n",
      "89\n",
      "90\n",
      "91\n",
      "92\n",
      "93\n",
      "94\n",
      "95\n",
      "96\n",
      "97\n",
      "98\n",
      "99\n",
      "100\n",
      "101\n",
      "102\n",
      "103\n",
      "104\n",
      "105\n",
      "106\n",
      "107\n",
      "108\n",
      "109\n",
      "110\n",
      "111\n",
      "112\n",
      "113\n",
      "114\n",
      "115\n",
      "116\n",
      "117\n",
      "118\n",
      "119\n",
      "120\n",
      "121\n",
      "122\n",
      "123\n"
     ]
    }
   ],
   "source": [
    "nt = uIVTdata.shape[0]\n",
    "testdata = np.zeros((nt,4))\n",
    "for t in np.arange(nt):\n",
    "    testdata[t] = compute_moisture_intensity(uIVTdata[t], vIVTdata[t], ETdata[int(np.floor(t/4))], landmask)\n",
    "    print(t)"
   ]
  },
  {
   "cell_type": "code",
   "execution_count": 32,
   "metadata": {},
   "outputs": [
    {
     "data": {
      "text/plain": [
       "(-0.2, 0.3)"
      ]
     },
     "execution_count": 32,
     "metadata": {},
     "output_type": "execute_result"
    },
    {
     "data": {
      "image/png": "[encoded data removed]",
      "text/plain": [
       "<Figure size 432x288 with 1 Axes>"
      ]
     },
     "metadata": {
      "needs_background": "light"
     },
     "output_type": "display_data"
    }
   ],
   "source": [
    "plt.scatter(np.arange(nt), testdata[:,0]/(testdata[:,1]+testdata[:,2]-testdata[:,3]))\n",
    "plt.ylim([-0.2, 0.3])"
   ]
  },
  {
   "cell_type": "code",
   "execution_count": 35,
   "metadata": {},
   "outputs": [],
   "source": [
    "import scipy.io as sio"
   ]
  },
  {
   "cell_type": "code",
   "execution_count": 36,
   "metadata": {},
   "outputs": [],
   "source": [
    "testfile = '/home/chen423/.tmp/AR-SST/HIST/moisture/full_ocean/ETratio.HIST.full_ocean.2003.10.mat'\n",
    "array_ET = sio.loadmat(testfile)['array_ET']\n",
    "array_uIVT = sio.loadmat(testfile)['array_uIVT']\n",
    "array_vIVT_bottom = sio.loadmat(testfile)['array_vIVT_bottom']\n",
    "array_vIVT_top = sio.loadmat(testfile)['array_vIVT_top']"
   ]
  },
  {
   "cell_type": "code",
   "execution_count": 38,
   "metadata": {},
   "outputs": [
    {
     "data": {
      "text/plain": [
       "(-0.2, 0.3)"
      ]
     },
     "execution_count": 38,
     "metadata": {},
     "output_type": "execute_result"
    },
    {
     "data": {
      "image/png": "[encoded data removed]",
      "text/plain": [
       "<Figure size 432x288 with 1 Axes>"
      ]
     },
     "metadata": {
      "needs_background": "light"
     },
     "output_type": "display_data"
    }
   ],
   "source": [
    "plt.scatter(np.arange(nt), array_ET/(array_uIVT+array_vIVT_bottom-array_vIVT_top))\n",
    "plt.ylim([-0.2, 0.3])"
   ]
  },
  {
   "cell_type": "code",
   "execution_count": null,
   "metadata": {},
   "outputs": [],
   "source": []
  }
 ],
 "metadata": {
  "kernelspec": {
   "display_name": "Python 3",
   "language": "python",
   "name": "python3"
  },
  "language_info": {
   "codemirror_mode": {
    "name": "ipython",
    "version": 3
   },
   "file_extension": ".py",
   "mimetype": "text/x-python",
   "name": "python",
   "nbconvert_exporter": "python",
   "pygments_lexer": "ipython3",
   "version": "3.7.6"
  }
 },
 "nbformat": 4,
 "nbformat_minor": 4
}
