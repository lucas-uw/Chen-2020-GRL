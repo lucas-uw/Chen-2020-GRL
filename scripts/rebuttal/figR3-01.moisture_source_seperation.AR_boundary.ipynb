{
 "cells": [
  {
   "cell_type": "markdown",
   "metadata": {},
   "source": [
    "### only use the abs version AR\n",
    "\n",
    "#### see final script at :\n",
    "\n",
    "/pic/projects/hyperion/chen423/tools/paper_tools/AR-SST/step5.moisture_decomposition.py"
   ]
  },
  {
   "cell_type": "code",
   "execution_count": 1,
   "metadata": {},
   "outputs": [],
   "source": [
    "import numpy as np\n",
    "import xarray as xr\n",
    "\n",
    "import matplotlib.pyplot as plt"
   ]
  },
  {
   "cell_type": "code",
   "execution_count": 2,
   "metadata": {},
   "outputs": [],
   "source": [
    "scenario = 'HIST'\n",
    "\n",
    "year = 2003\n",
    "month = 10\n",
    "\n",
    "para_b = int(10)"
   ]
  },
  {
   "cell_type": "code",
   "execution_count": 3,
   "metadata": {},
   "outputs": [],
   "source": [
    "reffile = '/raid1/chen423/serdp/data/ref_data/wrf_ref/geo_em.d01.nc'\n",
    "landmask = xr.open_dataset(reffile).LANDMASK.values[0,para_b:(450-para_b),para_b:(450-para_b)]"
   ]
  },
  {
   "cell_type": "code",
   "execution_count": 4,
   "metadata": {},
   "outputs": [],
   "source": [
    "ETdir = '/home/chen423/.tmp/AR-SST/%s/moisture/ET/' % (scenario)\n",
    "uIVTdir = '/home/chen423/.tmp/AR-SST/%s/moisture/uIVT/' % (scenario)\n",
    "ARdir = '/home/chen423/.tmp/AR-SST/%s/AR_tagged/Gershunov/SERDP6km_adj/' % (scenario)"
   ]
  },
  {
   "cell_type": "code",
   "execution_count": 5,
   "metadata": {},
   "outputs": [],
   "source": [
    "ETfile = ETdir + 'WRF_NARR.%s.SFCEVP.%d.%d.nc' % (scenario, year, month)\n",
    "uIVTfile = uIVTdir + 'WRF_NARR.%s.uIVT.%d.%d.nc' % (scenario, year, month)\n",
    "\n",
    "ARfile = ARdir + 'WRF_ARtag_adj.%s.Gershunov.%d.%d.ARabs.nc' % (scenario, year, month)"
   ]
  },
  {
   "cell_type": "code",
   "execution_count": 6,
   "metadata": {},
   "outputs": [],
   "source": [
    "ETdata = xr.open_dataset(ETfile).SFCEVP.values[:,para_b:(450-para_b),para_b:(450-para_b)]\n",
    "uIVTdata = xr.open_dataset(uIVTfile).uIVT.values[:,para_b:(450-para_b),para_b:(450-para_b)]\n",
    "ARtag = xr.open_dataset(ARfile).AR_tag.values[:,para_b:(450-para_b),para_b:(450-para_b)]"
   ]
  },
  {
   "cell_type": "code",
   "execution_count": 7,
   "metadata": {},
   "outputs": [],
   "source": [
    "def compute_moisture_intensity(in_ARtag, in_uIVT, in_ET, ref_mask):\n",
    "    uIVT_total = in_uIVT[:,0][in_ARtag[:,0]==1].sum()*6000*86400\n",
    "    ET_total = in_ET[(in_ARtag==1)&(ref_mask==0)].sum()*6000*6000\n",
    "    \n",
    "    if (ET_total+uIVT_total)==0:\n",
    "        out_ratio = -9999\n",
    "    else:\n",
    "        out_ratio = ET_total/(ET_total+uIVT_total)\n",
    "        \n",
    "    return out_ratio"
   ]
  },
  {
   "cell_type": "code",
   "execution_count": 8,
   "metadata": {},
   "outputs": [
    {
     "name": "stdout",
     "output_type": "stream",
     "text": [
      "0\n",
      "1\n",
      "2\n",
      "3\n",
      "4\n",
      "5\n",
      "6\n",
      "7\n",
      "8\n",
      "9\n",
      "10\n",
      "11\n",
      "12\n",
      "13\n",
      "14\n",
      "15\n",
      "16\n",
      "17\n",
      "18\n",
      "19\n",
      "20\n",
      "21\n",
      "22\n",
      "23\n",
      "24\n",
      "25\n",
      "26\n",
      "27\n",
      "28\n",
      "29\n",
      "30\n",
      "31\n",
      "32\n",
      "33\n",
      "34\n",
      "35\n",
      "36\n",
      "37\n",
      "38\n",
      "39\n",
      "40\n",
      "41\n",
      "42\n",
      "43\n",
      "44\n",
      "45\n",
      "46\n",
      "47\n",
      "48\n",
      "49\n",
      "50\n",
      "51\n",
      "52\n",
      "53\n",
      "54\n",
      "55\n",
      "56\n",
      "57\n",
      "58\n",
      "59\n",
      "60\n",
      "61\n",
      "62\n",
      "63\n",
      "64\n",
      "65\n",
      "66\n",
      "67\n",
      "68\n",
      "69\n",
      "70\n",
      "71\n",
      "72\n",
      "73\n",
      "74\n",
      "75\n",
      "76\n",
      "77\n",
      "78\n",
      "79\n",
      "80\n",
      "81\n",
      "82\n",
      "83\n",
      "84\n",
      "85\n",
      "86\n",
      "87\n",
      "88\n",
      "89\n",
      "90\n",
      "91\n",
      "92\n",
      "93\n",
      "94\n",
      "95\n",
      "96\n",
      "97\n",
      "98\n",
      "99\n",
      "100\n",
      "101\n",
      "102\n",
      "103\n",
      "104\n",
      "105\n",
      "106\n",
      "107\n",
      "108\n",
      "109\n",
      "110\n",
      "111\n",
      "112\n",
      "113\n",
      "114\n",
      "115\n",
      "116\n",
      "117\n",
      "118\n",
      "119\n",
      "120\n",
      "121\n",
      "122\n",
      "123\n"
     ]
    }
   ],
   "source": [
    "nt = ARtag.shape[0]\n",
    "testdata = np.zeros(nt)\n",
    "for t in np.arange(nt):\n",
    "    testdata[t] = compute_moisture_intensity(ARtag[t], uIVTdata[t], ETdata[int(np.floor(t/4))], landmask)\n",
    "    print(t)"
   ]
  },
  {
   "cell_type": "code",
   "execution_count": 9,
   "metadata": {},
   "outputs": [
    {
     "data": {
      "text/plain": [
       "array([-9.99900000e+03, -9.99900000e+03, -9.99900000e+03, -9.99900000e+03,\n",
       "        3.38631719e-03,  5.33258845e-02,  9.73280216e-02,  7.32008251e-02,\n",
       "        8.70000576e-02,  7.21488037e-02,  1.89462780e-02,  7.66615608e-03,\n",
       "        2.12834066e-02, -9.99900000e+03, -9.99900000e+03, -9.99900000e+03,\n",
       "        1.00000000e+00,  1.00000000e+00,  1.43092212e-03,  1.04635912e-02,\n",
       "        6.16170979e-03,  7.52428366e-03,  1.49097818e-02,  1.86100069e-02,\n",
       "        2.39455966e-02,  1.00000000e+00, -9.99900000e+03, -9.99900000e+03,\n",
       "       -9.99900000e+03, -9.99900000e+03,  4.97433771e-02,  6.07617904e-02,\n",
       "        4.02780579e-02, -9.99900000e+03, -9.99900000e+03, -9.99900000e+03,\n",
       "       -9.99900000e+03, -9.99900000e+03, -9.99900000e+03, -9.99900000e+03,\n",
       "       -9.99900000e+03, -9.99900000e+03,  4.66085569e-02,  5.21870243e-02,\n",
       "        3.39287885e-02, -9.99900000e+03, -9.99900000e+03, -9.99900000e+03,\n",
       "       -9.99900000e+03, -9.99900000e+03, -9.99900000e+03, -9.99900000e+03,\n",
       "       -9.99900000e+03, -9.99900000e+03, -9.99900000e+03, -9.99900000e+03,\n",
       "       -9.99900000e+03,  2.72244101e-03,  2.39753714e-02, -9.99900000e+03,\n",
       "       -9.99900000e+03,  3.55456547e-03,  3.68057855e-03,  4.17464705e-03,\n",
       "       -3.65793966e-04, -4.92141083e-04, -2.52879852e-04,  7.75052539e-05,\n",
       "        3.84841374e-03,  4.51159229e-03,  4.20091673e-03,  5.97037994e-03,\n",
       "        4.14336235e-03,  3.47729331e-03,  2.50182573e-03,  3.16357899e-03,\n",
       "       -8.97988166e-04, -1.21390505e-03, -2.17901453e-04, -2.16714665e-04,\n",
       "        2.08859985e-03,  2.08793029e-03, -1.93841136e-03,  4.66978570e-04,\n",
       "        8.50700882e-03,  5.86102687e-03,  5.52505607e-03,  7.82150535e-03,\n",
       "        1.00000000e+00, -9.99900000e+03, -9.99900000e+03, -9.99900000e+03,\n",
       "       -9.99900000e+03, -9.99900000e+03,  5.60577941e-03,  7.22546783e-03,\n",
       "        1.79844351e-03,  2.39948404e-03,  2.74167302e-03,  1.94906137e-03,\n",
       "        1.34654205e-03,  1.26640398e-03,  6.65050632e-04,  1.00470793e-03,\n",
       "        1.92109270e-04,  1.41624405e-04,  3.65927788e-04,  1.03884460e-03,\n",
       "        7.90276387e-03,  8.71515324e-03,  9.68143257e-03,  1.12613919e-02,\n",
       "        1.45581341e-01,  9.41604339e-01, -9.99900000e+03, -9.99900000e+03,\n",
       "       -9.99900000e+03, -9.99900000e+03, -9.99900000e+03, -9.99900000e+03,\n",
       "       -9.99900000e+03, -9.99900000e+03, -9.99900000e+03, -9.99900000e+03])"
      ]
     },
     "execution_count": 9,
     "metadata": {},
     "output_type": "execute_result"
    }
   ],
   "source": [
    "testdata"
   ]
  },
  {
   "cell_type": "code",
   "execution_count": 62,
   "metadata": {},
   "outputs": [
    {
     "data": {
      "text/plain": [
       "<matplotlib.collections.PathCollection at 0x7efe9fe2aa90>"
      ]
     },
     "execution_count": 62,
     "metadata": {},
     "output_type": "execute_result"
    },
    {
     "data": {
      "image/png": "[encoded data removed]",
      "text/plain": [
       "<Figure size 432x288 with 1 Axes>"
      ]
     },
     "metadata": {
      "needs_background": "light"
     },
     "output_type": "display_data"
    }
   ],
   "source": [
    "plt.scatter(np.arange(nt)[testdata>0], testdata[testdata>0])"
   ]
  },
  {
   "cell_type": "code",
   "execution_count": 38,
   "metadata": {},
   "outputs": [
    {
     "data": {
      "image/png": "[encoded data removed]",
      "text/plain": [
       "<Figure size 432x288 with 3 Axes>"
      ]
     },
     "metadata": {
      "needs_background": "light"
     },
     "output_type": "display_data"
    }
   ],
   "source": [
    "fig_debug = plt.figure()\n",
    "\n",
    "plt.subplot(1,2,1)\n",
    "plt.pcolormesh(ARtag[9,0:430,0:200])\n",
    "\n",
    "plt.subplot(1,2,2)\n",
    "plt.pcolormesh(uIVTdata[9,0:430,0:200])\n",
    "plt.colorbar()\n",
    "\n",
    "plt.show()\n",
    "plt.close()\n",
    "del(fig_debug)"
   ]
  },
  {
   "cell_type": "code",
   "execution_count": 40,
   "metadata": {},
   "outputs": [
    {
     "data": {
      "text/plain": [
       "<matplotlib.colorbar.Colorbar at 0x7efe9f92ae10>"
      ]
     },
     "execution_count": 40,
     "metadata": {},
     "output_type": "execute_result"
    },
    {
     "data": {
      "image/png": "[encoded data removed]",
      "text/plain": [
       "<Figure size 432x288 with 2 Axes>"
      ]
     },
     "metadata": {
      "needs_background": "light"
     },
     "output_type": "display_data"
    }
   ],
   "source": [
    "plt.pcolormesh(landmask)\n",
    "plt.colorbar()"
   ]
  },
  {
   "cell_type": "code",
   "execution_count": null,
   "metadata": {},
   "outputs": [],
   "source": []
  }
 ],
 "metadata": {
  "kernelspec": {
   "display_name": "Python 3",
   "language": "python",
   "name": "python3"
  },
  "language_info": {
   "codemirror_mode": {
    "name": "ipython",
    "version": 3
   },
   "file_extension": ".py",
   "mimetype": "text/x-python",
   "name": "python",
   "nbconvert_exporter": "python",
   "pygments_lexer": "ipython3",
   "version": "3.7.6"
  }
 },
 "nbformat": 4,
 "nbformat_minor": 4
}
