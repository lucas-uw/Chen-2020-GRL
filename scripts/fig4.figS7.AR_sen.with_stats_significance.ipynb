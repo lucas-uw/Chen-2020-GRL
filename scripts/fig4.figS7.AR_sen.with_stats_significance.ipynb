{
 "cells": [
  {
   "cell_type": "code",
   "execution_count": null,
   "metadata": {},
   "outputs": [],
   "source": [
    "import numpy as np\n",
    "import xarray as xr\n",
    "import scipy.io as sio\n",
    "import matplotlib.pyplot as plt\n",
    "import matplotlib\n",
    "%matplotlib inline"
   ]
  },
  {
   "cell_type": "code",
   "execution_count": null,
   "metadata": {},
   "outputs": [],
   "source": [
    "def crt_cbar_labels(vmax, n_interval, mode='diff', decimal_flag=0, perc_flag=False):\n",
    "    # crt_cbar_labels:  create the colorbar label lists\n",
    "    #   mode:  choose between \"diff\" and \"0ton\". \"diff\" means setting the colorbar as -vmax to vmax, \"0ton\" \n",
    "    #          means setting the colorbar as 0 to vmax\n",
    "    #   n_interval:  how many segments are there? See example below.\n",
    "    #   decimal_flag:  control the text format. Default to 0.\n",
    "    #\n",
    "    # Example:\n",
    "    #      > crt_cbar_labels(80, 4, mode='diff', decimal_flag=0)\n",
    "    #      >  ['-80', '-40', '0', '40', '80']\n",
    "    #      > crt_cbar_labels(80, 4, mode='0ton', decimal_flag=1)\n",
    "    #      >  ['0.0', '20.0', '40.0', '60.0', '80.0']\n",
    "    \n",
    "    if perc_flag==True:\n",
    "        format_string = '%%.%df%%%%' % (decimal_flag)\n",
    "    else:\n",
    "        format_string = '%%.%df' % (decimal_flag)\n",
    "    #print(format_string)\n",
    "    outdata = []\n",
    "    \n",
    "    if mode=='diff':\n",
    "        n_interval = n_interval/2\n",
    "        for i in np.arange(-1*n_interval, n_interval+0.000001, 1):\n",
    "            outdata.append(format_string%(vmax*i/n_interval))\n",
    "    if mode=='0ton':\n",
    "        for i in np.arange(0, n_interval+0.000001, 1):\n",
    "            outdata.append(format_string%(vmax*i/n_interval))\n",
    "        \n",
    "    return outdata"
   ]
  },
  {
   "cell_type": "code",
   "execution_count": null,
   "metadata": {},
   "outputs": [],
   "source": [
    "rootdir = '/raid1/chen423/serdp/archive/GRL2020/'\n",
    "\n",
    "plotdir = rootdir + 'plots/'"
   ]
  },
  {
   "cell_type": "code",
   "execution_count": null,
   "metadata": {},
   "outputs": [],
   "source": [
    "reffile = rootdir + 'data/common_ref/SERDP6km.dist_to_coastal.nc'\n",
    "dist_to_coast = xr.open_dataset(reffile).dist_to_coast.values\n",
    "dist_to_coast[dist_to_coast==9999] = 0\n",
    "ocean_mask = np.zeros((450,450))\n",
    "ocean_mask[dist_to_coast==0] = 1"
   ]
  },
  {
   "cell_type": "markdown",
   "metadata": {},
   "source": [
    "### flag"
   ]
  },
  {
   "cell_type": "code",
   "execution_count": null,
   "metadata": {},
   "outputs": [],
   "source": [
    "ARtag = 'abs'\n",
    "\n",
    "flag_area = 1000   # minimum size of patches\n",
    "flag_USstate = 1  # whether to use US west coast 5 states along with land mask. 1 is to use, 0 is to skip\n",
    "flag_post_adj = 1 # WRF further adjusted, or not (i.e., directly from modified NARR). 1 is further adjusted, 0 for raw\n",
    "\n",
    "commonAR_thre = 1000\n",
    "\n",
    "version_tag = 'AR%s_s%d_state%d_post%d_c%d' % (ARtag, flag_area, flag_USstate, flag_post_adj, commonAR_thre)\n",
    "print(version_tag)"
   ]
  },
  {
   "cell_type": "markdown",
   "metadata": {},
   "source": [
    "## 1. retrieve data"
   ]
  },
  {
   "cell_type": "code",
   "execution_count": null,
   "metadata": {},
   "outputs": [],
   "source": [
    "infile = rootdir + 'data/intermediate_data/AR_stats_separate.%s.mat' % (version_tag)\n",
    "    \n",
    "stats_AR_SSTmean = sio.loadmat(infile)['stats_AR_SSTmean']\n",
    "stats_AR_dist = sio.loadmat(infile)['stats_AR_dist']\n",
    "stats_AR_landarea = sio.loadmat(infile)['stats_AR_landarea']\n",
    "stats_AR_IVT = sio.loadmat(infile)['stats_AR_IVT']\n",
    "stats_AR_IWV = sio.loadmat(infile)['stats_AR_IWV']\n",
    "stats_AR_IVTs = sio.loadmat(infile)['stats_AR_IVTs']\n",
    "stats_AR_IWVs = sio.loadmat(infile)['stats_AR_IWVs']\n",
    "ARday_index = sio.loadmat(infile)['ARday_index']\n",
    "bg_year = sio.loadmat(infile)['bg_year']\n",
    "bg_month = sio.loadmat(infile)['bg_month']\n",
    "commonAR = sio.loadmat(infile)['commonAR'][0]"
   ]
  },
  {
   "cell_type": "code",
   "execution_count": null,
   "metadata": {},
   "outputs": [],
   "source": [
    "valid_index = (ARday_index[0])*(ARday_index[1])*(np.abs(stats_AR_SSTmean[0]-stats_AR_SSTmean[1])>=0.1)#*((bg_month[0]>=10)|(bg_month[0]<=3))\n",
    "valid_index2 = (commonAR==1)*(np.abs(stats_AR_SSTmean[0]-stats_AR_SSTmean[1])>=0.25)\n",
    "\n",
    "valid_AR_SSTmean = stats_AR_SSTmean[:,valid_index==1]\n",
    "valid_AR_dist = stats_AR_dist[:, valid_index==1]\n",
    "valid_AR_landarea = stats_AR_landarea[:, valid_index==1]\n",
    "valid_AR_IVT = stats_AR_IVT[:, valid_index==1]\n",
    "valid_AR_IWV = stats_AR_IWV[:, valid_index==1]\n",
    "valid_AR_IVTs = stats_AR_IVTs[:, valid_index==1]\n",
    "valid_AR_IWVs = stats_AR_IWVs[:, valid_index==1]\n",
    "\n",
    "valid_bg_year = bg_year[0, valid_index==1]\n",
    "valid_bg_month = bg_month[0, valid_index==1]\n",
    "\n",
    "print('There are %d valid 6-hr snaps with co-occurrence of ARs' % valid_index.sum())\n",
    "print('alternative: %d' % valid_index2.sum())"
   ]
  },
  {
   "cell_type": "markdown",
   "metadata": {},
   "source": [
    "## 2. difference between ARs"
   ]
  },
  {
   "cell_type": "code",
   "execution_count": null,
   "metadata": {},
   "outputs": [],
   "source": [
    "diff_SST = valid_AR_SSTmean[1]-valid_AR_SSTmean[0]\n",
    "diff_dist = valid_AR_dist[1]/valid_AR_dist[0]-1\n",
    "diff_area = valid_AR_landarea[1]/valid_AR_landarea[0]-1\n",
    "diff_IVT = valid_AR_IVT[1]/valid_AR_IVT[0]-1\n",
    "diff_IWV = valid_AR_IWV[1]/valid_AR_IWV[0]-1\n",
    "diff_IVTs = valid_AR_IVTs[1]/valid_AR_IVTs[0]-1\n",
    "diff_IWVs = valid_AR_IWVs[1]/valid_AR_IWVs[0]-1"
   ]
  },
  {
   "cell_type": "markdown",
   "metadata": {},
   "source": [
    "### 1.1 box plot, grouped by SSTmean difference"
   ]
  },
  {
   "cell_type": "code",
   "execution_count": null,
   "metadata": {},
   "outputs": [],
   "source": [
    "def sub_calc_stats_SSTbin(in_diff_SST, in_stats, xmax=3, xres=0.25):\n",
    "    for i in np.arange(-1*xmax, xmax+1, xres):\n",
    "        index = (in_diff_SST>i)*(in_diff_SST<(i+xres))\n",
    "        bindata = in_stats[index]\n",
    "        #out_stats = np.mean(bindata)\n",
    "        out_stats = np.percentile(bindata, 75)\n",
    "        print('SST diff %.2f-%.2f: %.2f' % (i, i+xres, out_stats))"
   ]
  },
  {
   "cell_type": "code",
   "execution_count": null,
   "metadata": {},
   "outputs": [],
   "source": [
    "def compute_regr_coeffs(inx, iny):\n",
    "    nt = iny.shape[0]\n",
    "    x = inx\n",
    "    \n",
    "    k = ((x*(iny-iny.mean())).sum()) / ((x*(x-x.mean())).sum())\n",
    "    b = iny.mean() - k * x.mean()\n",
    "    \n",
    "    return k, b"
   ]
  },
  {
   "cell_type": "markdown",
   "metadata": {},
   "source": [
    "Note:  the following two barplot functions take some parameters from background, so make sure they are set correctly."
   ]
  },
  {
   "cell_type": "code",
   "execution_count": null,
   "metadata": {},
   "outputs": [],
   "source": [
    "import scipy.stats.distributions as dist\n",
    "\n",
    "\n",
    "def check_mean_zero_significance(indata, thre_p=0.1):\n",
    "    n = indata.shape[0]\n",
    "    se = indata.std()/np.sqrt(n)\n",
    "    be = indata.mean()\n",
    "    he = 0\n",
    "    test_statistic = (be - he)/se\n",
    "    \n",
    "    pvalue = 2*dist.norm.cdf(-np.abs(test_statistic))\n",
    "    \n",
    "    if np.abs(pvalue)<thre_p:\n",
    "        sig = 1\n",
    "    else:\n",
    "        sig = 0\n",
    "    \n",
    "    return sig"
   ]
  },
  {
   "cell_type": "code",
   "execution_count": null,
   "metadata": {},
   "outputs": [],
   "source": []
  },
  {
   "cell_type": "code",
   "execution_count": null,
   "metadata": {},
   "outputs": [],
   "source": [
    "def barplot_single_set_with_sig(axis, indata, inlabel, incolors):\n",
    "    patch_collection_for_legend = []\n",
    "    for i in np.arange(nbins):\n",
    "        threb = -1*xmax+i*xres\n",
    "        threu = -1*xmax+(i+1)*xres\n",
    "        loc_v = (threb+threu)/2\n",
    "        index = (diff_SST>threb)*(diff_SST<=threu)\n",
    "        if index.sum()>20:\n",
    "            plotdata = indata[index]\n",
    "            sig = check_mean_zero_significance(plotdata)\n",
    "            bplot1 = axis.boxplot(plotdata, positions=[loc_v], widths=para_a,\n",
    "                        showfliers=False, whis=[10,90], patch_artist=True)\n",
    "            for patch, color in zip(bplot1['boxes'], incolors):\n",
    "                if sig==1:\n",
    "                    patch.set_facecolor(color)\n",
    "                    patch.set_edgecolor(color)\n",
    "                else:\n",
    "                    patch.set_facecolor('none')\n",
    "                    patch.set_edgecolor('black')\n",
    "                if i==5:  # 7 for abs\n",
    "                    patch_collection_for_legend.append(patch)\n",
    "            if i==5: # 7 for abs\n",
    "                leg = axis.legend(patch_collection_for_legend,\n",
    "                                 [inlabel], ncol=1, loc='upper right',\n",
    "                                 frameon=False, fontsize=10)\n",
    "                for legobj in leg.legendHandles:\n",
    "                    legobj.set_linewidth(0)"
   ]
  },
  {
   "cell_type": "code",
   "execution_count": null,
   "metadata": {},
   "outputs": [],
   "source": [
    "def barplot_double_set_sig(axis, indata, inlabels, incolors):\n",
    "    patch_collection_for_legend = []\n",
    "    for i in np.arange(nbins):\n",
    "        threb = -1*xmax+i*xres\n",
    "        threu = -1*xmax+(i+1)*xres\n",
    "        loc_v = (threb+threu)/2\n",
    "        index = (diff_SST>threb)*(diff_SST<=threu)\n",
    "        if index.sum()>20:\n",
    "            plotdata = [indata[0][index], indata[1][index]]\n",
    "            sigs = [check_mean_zero_significance(plotdata[0]), check_mean_zero_significance(plotdata[1])]\n",
    "            #print(sigs)\n",
    "            #bplot1 = ax1.boxplot(plotdata, positions=np.arange(loc_v-1*para_a-1*para_b, loc_v+1*para_a+1*para_b+0.0000001, para_a+para_b), widths=para_a,\n",
    "            #            showfliers=False, whis=[10,90], patch_artist=True)\n",
    "            bplot1 = axis.boxplot(plotdata, positions=np.arange(loc_v-0.5*para_a-0.5*para_b, loc_v+0.5*para_a+0.5*para_b+0.0000001, para_a+para_b), widths=para_a,\n",
    "                        showfliers=False, whis=[10,90], patch_artist=True)\n",
    "            for patch, color, sig in zip(bplot1['boxes'], incolors, sigs):\n",
    "                if sig==1:\n",
    "                    patch.set_facecolor(color)\n",
    "                    patch.set_edgecolor(color) \n",
    "                if sig==0:\n",
    "                    patch.set_facecolor('none')\n",
    "                    patch.set_edgecolor('black')\n",
    "                if i==11: # 7 for abs\n",
    "                    patch_collection_for_legend.append(patch)\n",
    "            if i==11: # 7 for abs\n",
    "                leg = axis.legend(patch_collection_for_legend,\n",
    "                                 inlabels, ncol=1, loc='upper right',\n",
    "                                 frameon=False, fontsize=10)\n",
    "                for legobj in leg.legendHandles:\n",
    "                    legobj.set_linewidth(0)"
   ]
  },
  {
   "cell_type": "code",
   "execution_count": null,
   "metadata": {},
   "outputs": [],
   "source": [
    "para_a = 0.11 # bin width\n",
    "para_b = 0 # bin interval\n",
    "colors4 = ['royalblue', 'lightseagreen']\n",
    "colors_area = ['orchid']\n",
    "\n",
    "fig2 = plt.figure(figsize=(7,6))\n",
    "rowspan=9\n",
    "colspan=10\n",
    "ax1 = plt.subplot2grid((21,23), (0,0), colspan=colspan, rowspan=rowspan)\n",
    "ax2 = plt.subplot2grid((21,23), (0,11), colspan=colspan, rowspan=rowspan)\n",
    "ax3 = plt.subplot2grid((21,23), (10,0), colspan=colspan, rowspan=rowspan)\n",
    "ax4 = plt.subplot2grid((21,23), (10,11), colspan=colspan, rowspan=rowspan)\n",
    "axes_full = [ax1, ax2 ,ax3, ax4]\n",
    "\n",
    "xmax = 3\n",
    "xres = 0.5\n",
    "nbins = int(xmax*2/xres)\n",
    "H_interval=xres\n",
    "\n",
    "barplot_single_set_with_sig(ax1, diff_area, 'landfalling area', ['orchid'])\n",
    "barplot_single_set_with_sig(ax2, diff_dist, 'distance', ['orchid'])\n",
    "barplot_double_set_sig(ax3, [diff_IVT, diff_IWV], ['mean IVT', 'mean IWV'], ['royalblue', 'lightseagreen'])\n",
    "barplot_double_set_sig(ax4, [diff_IVTs, diff_IWVs], ['int.IVT', 'int.IWV'], ['royalblue', 'lightseagreen'])\n",
    "\n",
    "# decoration\n",
    "for i in np.arange(nbins):\n",
    "    threb = -1*xmax+i*xres\n",
    "    threu = -1*xmax+(i+1)*xres\n",
    "    for axis in axes_full:\n",
    "        # background       \n",
    "        if i%2==0:\n",
    "            patch = matplotlib.patches.Rectangle((threb,-100), H_interval, 200, color='white', alpha=1, zorder=0)\n",
    "        else:\n",
    "            patch = matplotlib.patches.Rectangle((threb,-100), H_interval, 200, color='lightgray', alpha=0.6, zorder=0)\n",
    "        axis.add_patch(patch)\n",
    "         \n",
    "for axis in axes_full:\n",
    "    axis.plot(np.arange(-20, 20), np.zeros(40), linestyle='--', linewidth=0.5, color='black')\n",
    "    axis.set_xlim([-2, xmax])\n",
    "    axis.set_xticks(np.arange(-2, xmax+0.000001, 1))\n",
    "    axis.set_xticklabels(np.arange(-2, xmax+xres+0.000001, 1, dtype=int))\n",
    "    axis.set_ylabel('Relative change', fontsize=12)\n",
    "\n",
    "ax4.set_ylim([-0.2, 0.4])\n",
    "ax4.set_yticks(np.arange(-0.2, 0.41, 0.2))\n",
    "ax4.set_yticklabels(['-20%', '0', '+20%', '+40%'])\n",
    "    \n",
    "for axis in [ax1, ax2]:\n",
    "    axis.set_ylim([-0.15, 0.25])\n",
    "    axis.set_yticks(np.arange(-0.1, 0.21, 0.1))\n",
    "    axis.set_yticklabels(['-10%', '0', '+10%', '+20%'])\n",
    "    \n",
    "ax3.set_ylim([-0.03, 0.06])\n",
    "ax3.set_yticks(np.arange(-0.03, 0.06+0.000001, 0.03))\n",
    "ax3.set_yticklabels(['-3%', '0', '+3%', '+6%'])\n",
    "\n",
    "\n",
    "for axis in [ax2, ax4]:\n",
    "    axis.yaxis.set_label_position(\"right\")\n",
    "    axis.yaxis.tick_right()\n",
    "    \n",
    "for axis in [ax1, ax2]:\n",
    "    axis.set_xlabel('')\n",
    "    axis.set_xticklabels([])\n",
    "\n",
    "for axis in [ax3, ax4]:\n",
    "    axis.set_xlabel('SST perturbation (K)', fontsize=12)\n",
    "\n",
    "ax1.text(-1.9, 0.25-0.35*0.05, '(a)', ha='left', va='top', fontsize=12)\n",
    "ax2.text(-1.9, 0.25-0.35*0.05, '(b)', ha='left', va='top', fontsize=12)\n",
    "ax3.text(-1.9, 0.06-0.09*0.05, '(c)', ha='left', va='top', fontsize=12)\n",
    "ax4.text(-1.9, 0.4-0.6*0.05, '(d)', ha='left', va='top', fontsize=12)\n",
    "\n",
    "if ARtag=='abs':\n",
    "    figname = plotdir + 'fig04.AR_sens.with_sig_test.%s.png'%version_tag\n",
    "elif ARtag=='p85':\n",
    "    figname = plotdir + 'fig_S7.AR_sens.with_sig_test.%s.png'%version_tag\n",
    "\n",
    "#fig2.savefig(figname, dpi=600)\n",
    "\n",
    "plt.show()\n",
    "del(fig2)"
   ]
  }
 ],
 "metadata": {
  "kernelspec": {
   "display_name": "Python 3",
   "language": "python",
   "name": "python3"
  },
  "language_info": {
   "codemirror_mode": {
    "name": "ipython",
    "version": 3
   },
   "file_extension": ".py",
   "mimetype": "text/x-python",
   "name": "python",
   "nbconvert_exporter": "python",
   "pygments_lexer": "ipython3",
   "version": "3.7.6"
  }
 },
 "nbformat": 4,
 "nbformat_minor": 2
}
