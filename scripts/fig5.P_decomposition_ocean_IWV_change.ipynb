{
 "cells": [
  {
   "cell_type": "code",
   "execution_count": 1,
   "metadata": {},
   "outputs": [],
   "source": [
    "import numpy as np\n",
    "import xarray as xr\n",
    "import scipy.io as sio\n",
    "\n",
    "import pandas as pd\n",
    "\n",
    "import matplotlib.pyplot as plt"
   ]
  },
  {
   "cell_type": "code",
   "execution_count": 2,
   "metadata": {},
   "outputs": [],
   "source": [
    "# NCL colormap\n",
    "import matplotlib\n",
    "import colormath, colormath.color_objects, colormath.color_conversions\n",
    "from colormath.color_objects import sRGBColor\n",
    "import urllib\n",
    "import re"
   ]
  },
  {
   "cell_type": "code",
   "execution_count": 3,
   "metadata": {},
   "outputs": [],
   "source": [
    "color_obj_dict = {'sRGB':colormath.color_objects.sRGBColor,\n",
    "                  'HSV':colormath.color_objects.HSVColor,\n",
    "                  'Lab':colormath.color_objects.LabColor,\n",
    "                  'LCHuv':colormath.color_objects.LCHuvColor,\n",
    "                  'LCHab':colormath.color_objects.LCHabColor,\n",
    "                  'XYZ':colormath.color_objects.XYZColor}\n",
    "\n",
    "def __rgb_to_array(rgb_color):\n",
    "    r = np.minimum(1, round(rgb_color.rgb_r*10000)/10000)\n",
    "    g = np.minimum(1, round(rgb_color.rgb_g*10000)/10000)\n",
    "    b = np.minimum(1, round(rgb_color.rgb_b*10000)/10000)\n",
    "    return r,g,b\n",
    "\n",
    "\n",
    "def create_palette(start_rgb, end_rgb, n, colorspace):\n",
    "    # convert start and end to a point in the given colorspace\n",
    "    start = colormath.color_conversions.convert_color(start_rgb, colorspace).get_value_tuple()\n",
    "    end = colormath.color_conversions.convert_color(end_rgb, colorspace).get_value_tuple()\n",
    "\n",
    "    # create a set of n points along start to end\n",
    "    points = list(zip(*[np.linspace(start[i], end[i], n) for i in range(3)]))\n",
    "\n",
    "    # create a color for each point and convert back to rgb\n",
    "    rgb_colors = [colormath.color_conversions.convert_color(colorspace(*point), sRGBColor) for point in points]\n",
    "\n",
    "    # convert rgb colors to arrays\n",
    "    return [__rgb_to_array(color) for color in  rgb_colors]\n",
    "\n",
    "\n",
    "def __retrive_NCL_webcontent(cmapname):\n",
    "    target_url = 'https://www.ncl.ucar.edu/Document/Graphics/ColorTables/Files/%s.rgb' % cmapname\n",
    "    request = urllib.request.urlopen(target_url)\n",
    "    return request\n",
    "\n",
    "\n",
    "def __collect_discrete_NCL_cmap(cmapname):\n",
    "    rawdata = __retrive_NCL_webcontent(cmapname)\n",
    "    \n",
    "    cmap_color_list = list()\n",
    "    \n",
    "    color_section_sig = 0\n",
    "    \n",
    "    for line in rawdata:\n",
    "        \n",
    "        line_decode = line.decode('utf-8')\n",
    "        info = re.split('\\s+', line_decode.replace('\\n','').replace('^\\s+',''))\n",
    "        \n",
    "        if color_section_sig==1:\n",
    "            if info[0]=='' and len(info)>=3:\n",
    "                if np.maximum(np.maximum(float(info[1]), float(info[2])), float(info[3]))>1:\n",
    "                    cmap_color_list.append((float(info[1])/255, float(info[2])/255, float(info[3])/255))\n",
    "                else:\n",
    "                    cmap_color_list.append((float(info[1]), float(info[2]), float(info[3])))\n",
    "            if len(info)==3:\n",
    "                if ';' in info[0] or '#' in info[0]:\n",
    "                    whatisthis = 's'\n",
    "                else:\n",
    "                    if np.maximum(np.maximum(float(info[0]), float(info[1])), float(info[2]))>1:\n",
    "                        cmap_color_list.append((float(info[0])/255, float(info[1])/255, float(info[2])/255))\n",
    "                    else:\n",
    "                        cmap_color_list.append((float(info[0]), float(info[1]), float(info[2])))\n",
    "        \n",
    "        if 'ncolors' in str(info[0]):\n",
    "            color_section_sig = 1  # meaning now we are at color lines (or \"r g b\" line)\n",
    "\n",
    "    return cmap_color_list\n",
    "\n",
    "\n",
    "def __cmap_refinement(raw_cmap_rgb, n_interpolate=10, workspace=color_obj_dict['sRGB']):\n",
    "    # workspace:  choose which color space the refinement is conducted.\n",
    "    #             refer to https://stackoverflow.com/questions/55032648/given-a-start-color-and-a-middle-color-how-to-get-the-remaining-colors-python\n",
    "    \n",
    "    n_in = len(raw_cmap_rgb)\n",
    "\n",
    "    new_array = list()\n",
    "\n",
    "    for i in np.arange(n_in-1):\n",
    "        out_colors = create_palette(sRGBColor(*raw_cmap_rgb[i], is_upscaled=False), sRGBColor(*raw_cmap_rgb[i+1], is_upscaled=False), n_interpolate+1, workspace)\n",
    "        for j in np.arange(len(out_colors)-1):\n",
    "            new_array.append(out_colors[j])\n",
    "            \n",
    "    return new_array\n",
    "\n",
    "\n",
    "def generate_NCL_cmap(cmapname, cont_opt=False, cont_param_n=10, cont_param_ws='sRGB',\n",
    "                      white_first=False, white_ext=False, reverse_cmap=False):\n",
    "    # description:\n",
    "    #     cmapname:      taken as shown on the NCL website\n",
    "    #     cont_opt:      to convert the discreate colormap to continuous colormap\n",
    "    #     cont_param_n:  how many \"intermediate\" colors to be inserted to the nearby discreate colors\n",
    "    #     cont_param_ws: color space to conduct interploation. Default to \"sRGB\", which should work for most cases\n",
    "    #     white_first:   whether to set the first color as white. May be useful if the minimum does not mean anything\n",
    "    \n",
    "    cmap_discrete_raw = __collect_discrete_NCL_cmap(cmapname)\n",
    "    \n",
    "    if reverse_cmap==True:\n",
    "        cmap_discrete_raw.reverse()\n",
    "    \n",
    "    if white_first==True:\n",
    "        if white_ext==True:\n",
    "            cmap_discrete = list()\n",
    "            cmap_discrete.append((1,1,1))\n",
    "            for i in np.arange(len(cmap_discrete_raw)):\n",
    "                cmap_discrete.append(cmap_discrete_raw[int(i)])\n",
    "        else:\n",
    "            cmap_discrete = cmap_discrete_raw.copy()\n",
    "        cmap_discrete[0] = (1,1,1)\n",
    "    else:\n",
    "        cmap_discrete = cmap_discrete_raw\n",
    "    \n",
    "    if cont_opt==False:\n",
    "        out_cmap = cmap_discrete\n",
    "        \n",
    "    if cont_opt==True:\n",
    "        out_cmap = __cmap_refinement(cmap_discrete, n_interpolate=cont_param_n, workspace=color_obj_dict[cont_param_ws])\n",
    "        \n",
    "    return matplotlib.colors.ListedColormap(out_cmap)\n",
    "\n",
    "def crt_cbar_labels(vmax, n_interval, mode='diff', decimal_flag=0, perc_flag=False, vmin=0):\n",
    "    # crt_cbar_labels:  create the colorbar label lists\n",
    "    #   mode:  choose between \"diff\" and \"0ton\". \"diff\" means setting the colorbar as -vmax to vmax, \"0ton\" \n",
    "    #          means setting the colorbar as 0 to vmax\n",
    "    #   n_interval:  how many segments are there? See example below.\n",
    "    #   decimal_flag:  control the text format. Default to 0.\n",
    "    #\n",
    "    # Example:\n",
    "    #      > crt_cbar_labels(80, 4, mode='diff', decimal_flag=0)\n",
    "    #      >  ['-80', '-40', '0', '40', '80']\n",
    "    #      > crt_cbar_labels(80, 4, mode='0ton', decimal_flag=1)\n",
    "    #      >  ['0.0', '20.0', '40.0', '60.0', '80.0']\n",
    "    \n",
    "    if perc_flag==True:\n",
    "        format_string = '%%.%df%%%%' % (decimal_flag)\n",
    "    else:\n",
    "        format_string = '%%.%df' % (decimal_flag)\n",
    "    #print(format_string)\n",
    "    outdata = []\n",
    "    \n",
    "    if mode=='diff':\n",
    "        n_interval = n_interval/2\n",
    "        for i in np.arange(-1*n_interval, n_interval+0.000001, 1):\n",
    "            outdata.append(format_string%(vmax*i/n_interval))\n",
    "    if mode=='0ton':\n",
    "        for i in np.arange(0, n_interval+0.000001, 1):\n",
    "            outdata.append(format_string%(vmax*i/n_interval))\n",
    "    if mode=='minmax':\n",
    "        for i in np.arange(0, n_interval+0.000001, 1):\n",
    "            outdata.append(format_string%(vmin + (vmax-vmin)*i/n_interval))\n",
    "        \n",
    "    return outdata"
   ]
  },
  {
   "cell_type": "code",
   "execution_count": 4,
   "metadata": {},
   "outputs": [],
   "source": [
    "rootdir = '/raid1/chen423/serdp/archive/GRL2020/'\n",
    "\n",
    "plotdir = rootdir + 'plots/'"
   ]
  },
  {
   "cell_type": "code",
   "execution_count": 5,
   "metadata": {},
   "outputs": [
    {
     "name": "stdout",
     "output_type": "stream",
     "text": [
      "ARp85_s1000_state1_post1_c1000\n"
     ]
    }
   ],
   "source": [
    "ARtag = 'abs'\n",
    "flag_area = 1000   # minimum size of patches (over land and over ocean, both)\n",
    "flag_USstate = 1  # whether to use US west coast 5 states along with land mask. 1 is to use, 0 is to skip\n",
    "flag_post_adj = 1  # WRF further adjusted, or not (i.e., directly from modified NARR). 1 is further adjusted, 0 for raw\n",
    "\n",
    "commonAR_thre = 1000\n",
    "\n",
    "version_tag = 'AR%s_s%d_state%d_post%d_c%d' % (ARtag, flag_area, flag_USstate, flag_post_adj, commonAR_thre)\n",
    "print(version_tag)"
   ]
  },
  {
   "cell_type": "code",
   "execution_count": 6,
   "metadata": {},
   "outputs": [],
   "source": [
    "def crt_refdata():\n",
    "    reffile = rootdir + 'data/common_ref/latlon.nc'\n",
    "    lats = xr.open_dataset(reffile).XLAT_M.values\n",
    "    lons = xr.open_dataset(reffile).XLONG_M.values\n",
    "    \n",
    "    return lats, lons\n",
    "    \n",
    "wrf_lats, wrf_lons = crt_refdata()\n",
    "\n",
    "reffile = rootdir + 'data/common_ref/SERDP6km.dist_to_coastal.nc'\n",
    "dist_to_coast = xr.open_dataset(reffile).dist_to_coast.values\n",
    "dist_to_coast[dist_to_coast==9999] = 0\n",
    "ocean_mask = np.zeros((450,450))\n",
    "ocean_mask[dist_to_coast==0] = 1\n",
    "\n",
    "\n",
    "reffile = rootdir + 'data/common_ref/US_state.nc'\n",
    "USstate = 1-xr.open_dataset(reffile).state_mask.values[0:5].sum(axis=0)"
   ]
  },
  {
   "cell_type": "code",
   "execution_count": 7,
   "metadata": {},
   "outputs": [],
   "source": [
    "def compute_regr_coeffs(x, iny):\n",
    "    #nt = np.ones(iny.shape[0])\n",
    "    \n",
    "    k = ((x*(iny-iny.mean())).sum()) / ((x*(x-x.mean())).sum())\n",
    "    #k = ((x-x.mean())*(iny-iny.mean())).sum() / ((x-x.mean())*(x-x.mean())).sum()\n",
    "    b = iny.mean() - k * x.mean()\n",
    "    \n",
    "    return k, b"
   ]
  },
  {
   "cell_type": "markdown",
   "metadata": {},
   "source": [
    "## 1. SST"
   ]
  },
  {
   "cell_type": "code",
   "execution_count": 8,
   "metadata": {},
   "outputs": [],
   "source": [
    "def compute_SSTmean(in_SST):\n",
    "    mask_full = ocean_mask==1\n",
    "    out_SSTmean_all = in_SST[mask_full].mean()\n",
    "    \n",
    "    return out_SSTmean_all"
   ]
  },
  {
   "cell_type": "code",
   "execution_count": 9,
   "metadata": {},
   "outputs": [],
   "source": [
    "infile = rootdir + 'data/HIST/SST_background/NARR_TS.SERDP6km.2000.10.01.00.nc'\n",
    "fSST_full = xr.open_dataset(infile).var11.values[0]\n",
    "\n",
    "fSST = compute_SSTmean(fSST_full)"
   ]
  },
  {
   "cell_type": "markdown",
   "metadata": {},
   "source": [
    "###  using daily SST to compute difference"
   ]
  },
  {
   "cell_type": "code",
   "execution_count": 10,
   "metadata": {},
   "outputs": [],
   "source": [
    "def retrieve_daily_SST():\n",
    "    # use daily SST\n",
    "    infile = rootdir + 'data/HIST/SST_background/NARR_TS.SERDP6km.6hourly.200310-201509.daymean.nc'\n",
    "    in_SSTday_maps = xr.open_dataset(infile).var11.values\n",
    "\n",
    "    return np.array([compute_SSTmean(in_SSTday_maps[i]) for i in np.arange(4383)])\n",
    "\n",
    "SSTmean_series = retrieve_daily_SST()"
   ]
  },
  {
   "cell_type": "code",
   "execution_count": 11,
   "metadata": {},
   "outputs": [],
   "source": [
    "SSTdiff = fSST-SSTmean_series"
   ]
  },
  {
   "cell_type": "markdown",
   "metadata": {},
   "source": [
    "## 2. P data"
   ]
  },
  {
   "cell_type": "code",
   "execution_count": 12,
   "metadata": {},
   "outputs": [],
   "source": [
    "def get_masked_Pdata(scenario, P_thre=1):\n",
    "    if scenario == 'HIST':\n",
    "        infile = rootdir + 'data/HIST/P/WRF_NARR.point.PREC_ACC_NC.20031001-20150930.nc'\n",
    "    elif scenario == 'fSST':\n",
    "        infile = rootdir + 'data/fSST/P/WRF_NARR_fSST.point.PREC_ACC_NC.20031001-20150930.nc'\n",
    "\n",
    "    tmpdata = xr.open_dataset(infile).PREC_ACC_NC.values\n",
    "    out_P = np.ma.masked_array(tmpdata, mask=tmpdata<P_thre)\n",
    "    \n",
    "    return out_P"
   ]
  },
  {
   "cell_type": "code",
   "execution_count": 13,
   "metadata": {},
   "outputs": [],
   "source": [
    "def compute_P_regionalmean(in_P):\n",
    "    outdata = np.zeros((3,4383))\n",
    "    for i in np.arange(4383):\n",
    "        if ((USstate==0)&(in_P[i]>0)).sum()>1000: # was 10\n",
    "            outdata[0,i] = in_P[i][USstate==0].sum()\n",
    "            outdata[1,i] = in_P[i][USstate==0].mean()\n",
    "            outdata[2,i] = ((USstate==0)&(in_P[i]>0)).sum()\n",
    "        \n",
    "    return outdata"
   ]
  },
  {
   "cell_type": "code",
   "execution_count": 14,
   "metadata": {},
   "outputs": [],
   "source": [
    "def gen_HIST(P_thre=1):\n",
    "    P_HIST = get_masked_Pdata(scenario='HIST', P_thre=P_thre)\n",
    "\n",
    "    Preg_HIST = compute_P_regionalmean(P_HIST)\n",
    "    \n",
    "    return Preg_HIST\n",
    "\n",
    "\n",
    "def gen_fSST(P_thre=1):\n",
    "    P_fSST = get_masked_Pdata(scenario='fSST', P_thre=P_thre)\n",
    "\n",
    "    Preg_fSST = compute_P_regionalmean(P_fSST)\n",
    "    \n",
    "    return Preg_fSST"
   ]
  },
  {
   "cell_type": "code",
   "execution_count": 15,
   "metadata": {},
   "outputs": [],
   "source": [
    "Preg_HIST = gen_HIST()\n",
    "Preg_fSST = gen_fSST()"
   ]
  },
  {
   "cell_type": "markdown",
   "metadata": {},
   "source": [
    "## 3. AR data"
   ]
  },
  {
   "cell_type": "code",
   "execution_count": 16,
   "metadata": {},
   "outputs": [
    {
     "name": "stdout",
     "output_type": "stream",
     "text": [
      "643.0 678.0\n"
     ]
    }
   ],
   "source": [
    "tmpfile = rootdir + 'data/intermediate_data/AR_stats_separate.%s.mat' % version_tag\n",
    "AR6hr_index = sio.loadmat(tmpfile)['ARday_index']\n",
    "\n",
    "ts_daily = pd.period_range(start='2003-10-01', end='2015-09-30', freq='D')\n",
    "\n",
    "# for each day, consider the 5 6-hrly snaps (0,6,12,18,24). If there are more than X snaps with AR, then it is an AR day\n",
    "thre_6hr_to_day = 2  # the X\n",
    "\n",
    "ARday_index_2sets = np.zeros((2, 4383))\n",
    "\n",
    "for i in np.arange(4383):\n",
    "    sindex = i*4\n",
    "    eindex = (i+1)*4\n",
    "    #print(sindex, eindex)\n",
    "    for j in [0,1]:\n",
    "        if AR6hr_index[j, sindex:(eindex+1)].sum()>=thre_6hr_to_day:\n",
    "            ARday_index_2sets[j, i] = 1\n",
    "\n",
    "ARday_index = ARday_index_2sets\n",
    "            \n",
    "#ARday_index = np.zeros((2,4383))\n",
    "#for i in np.arange(2):\n",
    "#    ARday_index[i,:] = ARday_index_2sets.sum(axis=0)==2\n",
    "    \n",
    "print(ARday_index[0].sum(), ARday_index[1].sum())"
   ]
  },
  {
   "cell_type": "code",
   "execution_count": 17,
   "metadata": {},
   "outputs": [],
   "source": [
    "tmpfile = rootdir + 'data/intermediate_data/AR_stats_separate.%s.mat' % version_tag\n",
    "AR6hr_index = sio.loadmat(tmpfile)['ARday_index']"
   ]
  },
  {
   "cell_type": "code",
   "execution_count": 18,
   "metadata": {},
   "outputs": [
    {
     "data": {
      "text/plain": [
       "array([1965., 2070.])"
      ]
     },
     "execution_count": 18,
     "metadata": {},
     "output_type": "execute_result"
    }
   ],
   "source": [
    "AR6hr_index.sum(axis=1)"
   ]
  },
  {
   "cell_type": "code",
   "execution_count": 19,
   "metadata": {},
   "outputs": [],
   "source": [
    "ts_daily = pd.period_range(start='2003-10-01', end='2015-09-30', freq='D')"
   ]
  },
  {
   "cell_type": "code",
   "execution_count": 20,
   "metadata": {},
   "outputs": [],
   "source": [
    "#np.where(((ts_daily.year.values==2012) & (ts_daily.month.values==5) & (ts_daily.day.values==17))==1)\n",
    "\n",
    "#np.where(((ts_daily.year.values==2014) & (ts_daily.month.values==12) & (ts_daily.day.values==3))==1)"
   ]
  },
  {
   "cell_type": "code",
   "execution_count": 21,
   "metadata": {},
   "outputs": [],
   "source": [
    "SST_valid = np.ones(4383)\n",
    "for i in [3151, 3152, 4081, 4082]:\n",
    "    SST_valid[i] = 0"
   ]
  },
  {
   "cell_type": "code",
   "execution_count": 22,
   "metadata": {},
   "outputs": [
    {
     "name": "stdout",
     "output_type": "stream",
     "text": [
      "643.0 678.0\n"
     ]
    }
   ],
   "source": [
    "# for each day, consider the 5 6-hrly snaps (0,6,12,18,24). If there are more than X snaps with AR, then it is an AR day\n",
    "thre_6hr_to_day = 2  # the X\n",
    "\n",
    "ARday_index_2sets = np.zeros((2, 4383))\n",
    "\n",
    "for i in np.arange(4383):\n",
    "    sindex = i*4\n",
    "    eindex = (i+1)*4\n",
    "    #print(sindex, eindex)\n",
    "    for j in [0,1]:\n",
    "        if AR6hr_index[j, sindex:(eindex+1)].sum()>=thre_6hr_to_day:\n",
    "            ARday_index_2sets[j, i] = 1\n",
    "\n",
    "ARday_index = ARday_index_2sets\n",
    "            \n",
    "#ARday_index = np.zeros((2,4383))\n",
    "#for i in np.arange(2):\n",
    "#    ARday_index[i,:] = ARday_index_2sets.sum(axis=0)==2\n",
    "    \n",
    "print(ARday_index[0].sum(), ARday_index[1].sum())"
   ]
  },
  {
   "cell_type": "markdown",
   "metadata": {},
   "source": [
    "## 4. analysis\n",
    "\n",
    "\n",
    "### 4.1 response of P to same ARs"
   ]
  },
  {
   "cell_type": "code",
   "execution_count": 23,
   "metadata": {},
   "outputs": [
    {
     "name": "stdout",
     "output_type": "stream",
     "text": [
      "555 579 618\n",
      "2681 2757 2816\n"
     ]
    }
   ],
   "source": [
    "index_common_AR_events = (Preg_HIST[0]>0)&(Preg_fSST[0]>0)&(ARday_index.sum(axis=0)==2)&(SST_valid==1)\n",
    "index_HIST_AR_events = (Preg_HIST[0]>0)&(ARday_index[0]==1)&(SST_valid==1)\n",
    "index_fSST_AR_events = (Preg_fSST[0]>0)&(ARday_index[1]==1)&(SST_valid==1)\n",
    "index_common_nAR_events = (Preg_HIST[0]>0)&(Preg_fSST[0]>0)&(ARday_index.sum(axis=0)==0)&(SST_valid==1)\n",
    "index_HIST_nAR_events = (Preg_HIST[0]>0)&(ARday_index[0]==0)&(SST_valid==1)\n",
    "index_fSST_nAR_events = (Preg_fSST[0]>0)&(ARday_index[1]==0)&(SST_valid==1)\n",
    "\n",
    "print(index_common_AR_events.sum(), index_HIST_AR_events.sum(), index_fSST_AR_events.sum())\n",
    "print(index_common_nAR_events.sum(), index_HIST_nAR_events.sum(), index_fSST_nAR_events.sum())"
   ]
  },
  {
   "cell_type": "code",
   "execution_count": 24,
   "metadata": {},
   "outputs": [
    {
     "name": "stdout",
     "output_type": "stream",
     "text": [
      "0.01531755919028959 0.06288353606973128\n",
      "  0.08543579873874456 0.055489689932157304\n",
      "0.012061992951912197 0.023021248689191653\n",
      "  0.033102671477525825 0.023950065853335964\n",
      "0.0033007434045981875 0.035500401417091446\n",
      "  0.037877286587299344 0.032027759261690616\n"
     ]
    }
   ],
   "source": [
    "index = 0\n",
    "k_total_y, b_total_y = compute_regr_coeffs(SSTdiff[index_common_AR_events], Preg_fSST[index][index_common_AR_events]/Preg_HIST[index][index_common_AR_events]-1)\n",
    "k_total_n, b_total_n = compute_regr_coeffs(SSTdiff[index_common_nAR_events], Preg_fSST[index][index_common_nAR_events]/Preg_HIST[index][index_common_nAR_events]-1)\n",
    "\n",
    "index = 1\n",
    "k_int_y, b_int_y = compute_regr_coeffs(SSTdiff[index_common_AR_events], Preg_fSST[index][index_common_AR_events]/Preg_HIST[index][index_common_AR_events]-1)\n",
    "k_int_n, b_int_n = compute_regr_coeffs(SSTdiff[index_common_nAR_events], Preg_fSST[index][index_common_nAR_events]/Preg_HIST[index][index_common_nAR_events]-1)\n",
    "\n",
    "index = 2\n",
    "k_area_y, b_area_y = compute_regr_coeffs(SSTdiff[index_common_AR_events], Preg_fSST[index][index_common_AR_events]/Preg_HIST[index][index_common_AR_events]-1)\n",
    "k_area_n, b_area_n = compute_regr_coeffs(SSTdiff[index_common_nAR_events], Preg_fSST[index][index_common_nAR_events]/Preg_HIST[index][index_common_nAR_events]-1)\n",
    "\n",
    "\n",
    "print(k_total_y, b_total_y)\n",
    "print(' ', k_total_n, b_total_n)\n",
    "print(k_int_y, b_int_y)\n",
    "print(' ', k_int_n, b_int_n)\n",
    "print(k_area_y, b_area_y)\n",
    "print(' ', k_area_n, b_area_n)"
   ]
  },
  {
   "cell_type": "markdown",
   "metadata": {},
   "source": [
    "### 4.2 IWV sensitivity"
   ]
  },
  {
   "cell_type": "code",
   "execution_count": 25,
   "metadata": {},
   "outputs": [],
   "source": [
    "tmpfile = rootdir + 'data/intermediate_data/full_ocean_stats_separate.mat'\n",
    "    \n",
    "stats_SSTmean = sio.loadmat(tmpfile)['stats_SSTmean']\n",
    "stats_IVT = sio.loadmat(tmpfile)['stats_IVT']\n",
    "stats_IWV = sio.loadmat(tmpfile)['stats_IWV']\n",
    "stats_IVTf = sio.loadmat(tmpfile)['stats_IVTf']\n",
    "stats_IWVf = sio.loadmat(tmpfile)['stats_IWVf']"
   ]
  },
  {
   "cell_type": "code",
   "execution_count": 26,
   "metadata": {},
   "outputs": [],
   "source": [
    "tmpfile = rootdir + 'data/intermediate_data/AR_stats_separate.%s.mat' % version_tag\n",
    "AR6hr_index = sio.loadmat(tmpfile)['ARday_index']\n",
    "common_AR = (AR6hr_index.sum(axis=0))==2\n",
    "common_nAR = (AR6hr_index.sum(axis=0))==0"
   ]
  },
  {
   "cell_type": "code",
   "execution_count": 27,
   "metadata": {},
   "outputs": [],
   "source": [
    "def compute_IWV_IVT_SST_pairs(ARcase, region='ocean'):\n",
    "    # region: \"ocean\" or \"all\"\n",
    "    if ARcase=='AR':\n",
    "        valid_index = (common_AR==1)*(np.abs(stats_SSTmean[0]-stats_SSTmean[1])>=0.1)\n",
    "    elif ARcase=='nAR':\n",
    "        valid_index = (common_nAR==1)*(np.abs(stats_SSTmean[0]-stats_SSTmean[1])>=0.1)\n",
    "\n",
    "    valid_SSTmean = stats_SSTmean[:,valid_index==1]\n",
    "    \n",
    "    if region=='ocean':\n",
    "        valid_IVT = stats_IVT[:, valid_index==1]\n",
    "        valid_IWV = stats_IWV[:, valid_index==1]\n",
    "    elif region=='all':\n",
    "        valid_IVT = stats_IVTf[:, valid_index==1]\n",
    "        valid_IWV = stats_IWVf[:, valid_index==1]\n",
    "        \n",
    "    diff_SST = valid_SSTmean[1]-valid_SSTmean[0]\n",
    "    diff_IVT = valid_IVT[1]/valid_IVT[0]-1\n",
    "    diff_IWV = valid_IWV[1]/valid_IWV[0]-1\n",
    "        \n",
    "    \n",
    "    print('There are %d valid 6-hr snaps with co-occurrence of ARs' % valid_index.sum())\n",
    "    \n",
    "    return diff_SST, diff_IVT, diff_IWV"
   ]
  },
  {
   "cell_type": "code",
   "execution_count": 28,
   "metadata": {},
   "outputs": [
    {
     "name": "stdout",
     "output_type": "stream",
     "text": [
      "There are 1835 valid 6-hr snaps with co-occurrence of ARs\n",
      "There are 14945 valid 6-hr snaps with co-occurrence of ARs\n"
     ]
    }
   ],
   "source": [
    "diff_SST_AR, diff_IVT_AR, diff_IWV_AR = compute_IWV_IVT_SST_pairs('AR', region='ocean')\n",
    "diff_SST_nAR, diff_IVT_nAR, diff_IWV_nAR = compute_IWV_IVT_SST_pairs('nAR', region='ocean')"
   ]
  },
  {
   "cell_type": "code",
   "execution_count": 29,
   "metadata": {},
   "outputs": [],
   "source": [
    "k_IVT_AR, b_IVT_AR = compute_regr_coeffs(diff_SST_AR, diff_IVT_AR)\n",
    "k_IVT_nAR, b_IVT_nAR = compute_regr_coeffs(diff_SST_nAR, diff_IVT_nAR)\n",
    "k_IWV_AR, b_IWV_AR = compute_regr_coeffs(diff_SST_AR, diff_IWV_AR)\n",
    "k_IWV_nAR, b_IWV_nAR = compute_regr_coeffs(diff_SST_nAR, diff_IWV_nAR)"
   ]
  },
  {
   "cell_type": "code",
   "execution_count": null,
   "metadata": {},
   "outputs": [],
   "source": []
  },
  {
   "cell_type": "code",
   "execution_count": 30,
   "metadata": {},
   "outputs": [],
   "source": [
    "import scipy.stats.distributions as dist\n",
    "\n",
    "\n",
    "def check_mean_zero_significance(indata, thre_p=0.1):\n",
    "    n = indata.shape[0]\n",
    "    se = indata.std()/np.sqrt(n)\n",
    "    be = indata.mean()\n",
    "    he = 0\n",
    "    test_statistic = (be - he)/se\n",
    "    \n",
    "    pvalue = 2*dist.norm.cdf(-np.abs(test_statistic))\n",
    "    \n",
    "    if np.abs(pvalue)<thre_p:\n",
    "        sig = 1\n",
    "    else:\n",
    "        sig = 0\n",
    "    \n",
    "    return sig"
   ]
  },
  {
   "cell_type": "code",
   "execution_count": 31,
   "metadata": {},
   "outputs": [],
   "source": [
    "def barplot_double_set(axis, in_x, indata, inlabels, incolors):\n",
    "    patch_collection_for_legend = []\n",
    "    for i in np.arange(nbins):\n",
    "        threb = -1*xmax+i*xres\n",
    "        threu = -1*xmax+(i+1)*xres\n",
    "        loc_v = (threb+threu)/2\n",
    "        index1 = (in_x[0]>threb)*(in_x[0]<=threu)\n",
    "        index2 = (in_x[1]>threb)*(in_x[1]<=threu)\n",
    "        #print(index1.sum())\n",
    "        if index1.sum()>10:\n",
    "            plotdata = [indata[0][index1], indata[1][index2]]\n",
    "            sigs = [check_mean_zero_significance(plotdata[0]), check_mean_zero_significance(plotdata[1])]\n",
    "            #bplot1 = ax1.boxplot(plotdata, positions=np.arange(loc_v-1*para_a-1*para_b, loc_v+1*para_a+1*para_b+0.0000001, para_a+para_b), widths=para_a,\n",
    "            #            showfliers=False, whis=[10,90], patch_artist=True)\n",
    "            bplot1 = axis.boxplot(plotdata, positions=np.arange(loc_v-0.5*para_a-0.5*para_b, loc_v+0.5*para_a+0.5*para_b+0.0000001, para_a+para_b), widths=para_a,\n",
    "                        showfliers=False, whis=[10,90], patch_artist=True)\n",
    "            for patch, color, sig in zip(bplot1['boxes'], incolors, sigs):\n",
    "                if sig==1:\n",
    "                    patch.set_facecolor(color)\n",
    "                    patch.set_edgecolor(color) \n",
    "                if sig==0:\n",
    "                    patch.set_facecolor('none')\n",
    "                    patch.set_edgecolor('black')\n",
    "                if i==7:\n",
    "                    patch_collection_for_legend.append(patch)\n",
    "            if i==7:\n",
    "                leg = axis.legend(patch_collection_for_legend,\n",
    "                                 inlabels, ncol=2, loc='upper center',\n",
    "                                 frameon=False, fontsize=11)\n",
    "                for legobj in leg.legendHandles:\n",
    "                    legobj.set_linewidth(0)"
   ]
  },
  {
   "cell_type": "code",
   "execution_count": 33,
   "metadata": {},
   "outputs": [
    {
     "data": {
      "image/png": "[encoded data removed]",
      "text/plain": [
       "<Figure size 504x576 with 4 Axes>"
      ]
     },
     "metadata": {
      "needs_background": "light"
     },
     "output_type": "display_data"
    }
   ],
   "source": [
    "para_a = 0.08 # bin width\n",
    "para_b = 0.05 # bin interval\n",
    "\n",
    "xmax = 3\n",
    "xres = 0.5\n",
    "nbins = int(xmax*2/xres)\n",
    "H_interval=xres\n",
    "\n",
    "xdata = np.arange(-3, 6.1, 1)\n",
    "\n",
    "fig2 = plt.figure(figsize=(7,8))\n",
    "rowspan=10\n",
    "colspan=9\n",
    "ax1 = plt.subplot2grid((43,10), (0,0), colspan=colspan, rowspan=rowspan)\n",
    "ax2 = plt.subplot2grid((43,10), (11,0), colspan=colspan, rowspan=rowspan)\n",
    "ax3 = plt.subplot2grid((43,10), (22,0), colspan=colspan, rowspan=rowspan)\n",
    "ax4 = plt.subplot2grid((43,10), (33,0), colspan=colspan, rowspan=rowspan)\n",
    "axes_full = [ax1, ax2 ,ax3, ax4]\n",
    "\n",
    "\n",
    "barplot_double_set(ax1, [SSTdiff[index_common_AR_events], SSTdiff[index_common_nAR_events]],\n",
    "                   [(Preg_fSST[0][index_common_AR_events]/Preg_HIST[0][index_common_AR_events]-1)*100,\n",
    "                    (Preg_fSST[0][index_common_nAR_events]/Preg_HIST[0][index_common_nAR_events]-1)*100],\n",
    "                   ['Total P (AR)', 'Total P (non-AR)'], ['royalblue', 'lightseagreen'])\n",
    "ax1.plot(xdata, (xdata*k_total_y+b_total_y)*100, lw=1, color='royalblue')\n",
    "ax1.plot(xdata, (xdata*k_total_n+b_total_n)*100, lw=1, color='lightseagreen')\n",
    "\n",
    "barplot_double_set(ax2, [SSTdiff[index_common_AR_events], SSTdiff[index_common_nAR_events]],\n",
    "                   [(Preg_fSST[1][index_common_AR_events]/Preg_HIST[1][index_common_AR_events]-1)*100,\n",
    "                    (Preg_fSST[1][index_common_nAR_events]/Preg_HIST[1][index_common_nAR_events]-1)*100],\n",
    "                   ['P intensity (AR)', 'P intensity (non-AR)'], ['royalblue', 'lightseagreen'])\n",
    "ax2.plot(xdata, (xdata*k_int_y+b_int_y)*100, lw=1, color='royalblue')\n",
    "ax2.plot(xdata, (xdata*k_int_n+b_int_n)*100, lw=1, color='lightseagreen')\n",
    "\n",
    "barplot_double_set(ax3, [SSTdiff[index_common_AR_events], SSTdiff[index_common_nAR_events]],\n",
    "                   [(Preg_fSST[2][index_common_AR_events]/Preg_HIST[2][index_common_AR_events]-1)*100,\n",
    "                    (Preg_fSST[2][index_common_nAR_events]/Preg_HIST[2][index_common_nAR_events]-1)*100],\n",
    "                   ['P area (AR)', 'P area (non-AR)'], ['royalblue', 'lightseagreen'])\n",
    "ax3.plot(xdata, (xdata*k_area_y+b_area_y)*100, lw=1, color='royalblue')\n",
    "ax3.plot(xdata, (xdata*k_area_n+b_area_n)*100, lw=1, color='lightseagreen')\n",
    "\n",
    "barplot_double_set(ax4, [diff_SST_AR, diff_SST_nAR], [diff_IWV_AR*100, diff_IWV_nAR*100],\n",
    "                   ['IWV (AR)', 'IWV (non-AR)'], ['royalblue', 'lightseagreen'])\n",
    "ax4.plot(xdata, (xdata*k_IWV_AR+b_IWV_AR)*100, lw=1, color='royalblue')\n",
    "ax4.plot(xdata, (xdata*k_IWV_nAR+b_IWV_nAR)*100, lw=1, color='lightseagreen')\n",
    "\n",
    "# decoration\n",
    "for i in np.arange(nbins):\n",
    "    threb = -1*xmax+i*xres\n",
    "    threu = -1*xmax+(i+1)*xres\n",
    "    for axis in axes_full:\n",
    "        # background       \n",
    "        if i%2==0:\n",
    "            patch = matplotlib.patches.Rectangle((threb,-1000), H_interval, 2000, color='white', alpha=1, zorder=0)\n",
    "        else:\n",
    "            patch = matplotlib.patches.Rectangle((threb,-1000), H_interval, 2000, color='lightgray', alpha=0.5, zorder=0)\n",
    "        axis.add_patch(patch)\n",
    "         \n",
    "for axis in axes_full:\n",
    "    axis.plot(np.arange(-20, 20), np.zeros(40), linestyle='--', linewidth=0.5, color='black')\n",
    "    axis.set_xlim([-2, xmax])\n",
    "    axis.set_xticks(np.arange(-2, xmax+0.000001, 1))\n",
    "    axis.set_xticklabels(np.arange(-2, xmax+xres+0.000001, 1, dtype=int))\n",
    "\n",
    "#ax3.text(-2.5, 60, 'Relative change\\n(%)', ha='center', va='center', rotation=90, fontsize=14)\n",
    "    \n",
    "ax1.set_ylim([-50, 100])\n",
    "ax1.set_yticks([-50, 0, 50, 100])\n",
    "ax1.set_yticklabels(['-50%', '0', '+50%', '+100%'])\n",
    "ax1.text(-1, -50+150/30, 'y=%.2fx+%.2f' % (k_total_y, b_total_y), color='royalblue', ha='left', va='bottom', fontsize=12)\n",
    "ax1.text(1, -50+150/30, 'y=%.2fx+%.2f' % (k_total_n, b_total_n), color='lightseagreen', ha='left', va='bottom', fontsize=12)\n",
    "ax2.set_ylim([-20, 40])\n",
    "ax2.set_yticks([-20, 0, 20, 40])\n",
    "ax2.set_yticklabels(['-20%', '0', '+20%', '+40%'])\n",
    "ax2.text(-1, -20+60/30, 'y=%.2fx+%.2f' % (k_int_y, b_int_y), color='royalblue', ha='left', va='bottom', fontsize=12)\n",
    "ax2.text(1, -20+60/30, 'y=%.2fx+%.2f' % (k_int_n, b_int_n), color='lightseagreen', ha='left', va='bottom', fontsize=12)\n",
    "ax3.set_ylim([-30, 60])\n",
    "ax3.set_yticks([-30, 0, 30, 60])\n",
    "ax3.set_yticklabels(['-30%', '0', '+30%', '+60%'])\n",
    "ax3.text(-1, -30+90/30, 'y=%.2fx+%.2f' % (k_area_y, b_area_y), color='royalblue', ha='left', va='bottom', fontsize=12)\n",
    "ax3.text(1, -30+90/30, 'y=%.2fx+%.2f' % (k_area_n, b_area_n), color='lightseagreen', ha='left', va='bottom', fontsize=12)\n",
    "ax4.set_ylim([-8, 16])\n",
    "ax4.set_yticks([-8, 0, 8, 16])\n",
    "ax4.set_yticklabels(['-8%', '0', '+8%', '+16%'])\n",
    "ax4.text(-1, -8+16/30, 'y=%.3fx+%.3f' % (k_IWV_AR, b_IWV_AR), color='royalblue', ha='left', va='bottom', fontsize=12)\n",
    "ax4.text(1, -8+16/30, 'y=%.3fx+%.3f' % (k_IWV_nAR, b_IWV_nAR), color='lightseagreen', ha='left', va='bottom', fontsize=12)\n",
    "\n",
    "\n",
    "ax1.text(-1.9, 100-150*0.05, '(a)', ha='left', va='top', fontsize=12)\n",
    "ax2.text(-1.9, 40-60*0.05, '(b)', ha='left', va='top', fontsize=12)\n",
    "ax3.text(-1.9, 60-90*0.05, '(c)', ha='left', va='top', fontsize=12)\n",
    "ax4.text(-1.9, 16-24*0.05, '(d)', ha='left', va='top', fontsize=12)\n",
    "\n",
    "for axis in [ax1, ax2, ax3]:\n",
    "    axis.set_xlabel('')\n",
    "    axis.set_xticklabels([])\n",
    "    \n",
    "#for axis in [ax2, ax4]:\n",
    "#    axis.yaxis.set_label_position(\"right\")\n",
    "#    axis.yaxis.tick_right()\n",
    "    \n",
    "#for axis in axes_full:\n",
    "#    axis.set_ylabel('Relative change', fontsize=12)\n",
    "ax3.text(-2.7, 65, 'Relative change', va='center', ha='center', rotation=90, fontsize=12)\n",
    "    \n",
    "\n",
    "ax1.set_title('Response of precipitation', fontsize=14)\n",
    "ax4.set_xlabel('SST perturbation (K)', fontsize=12)\n",
    "\n",
    "#fig2.savefig(plotdir + 'fig05.P_IWVocean_response_decompose.%s.png' % version_tag, dpi=600)\n",
    "\n",
    "plt.show()\n",
    "plt.close()\n",
    "del(fig2)"
   ]
  },
  {
   "cell_type": "raw",
   "metadata": {},
   "source": [
    "# 2x2 layout\n",
    "\n",
    "para_a = 0.08 # bin width\n",
    "para_b = 0.05 # bin interval\n",
    "\n",
    "xmax = 3\n",
    "xres = 0.5\n",
    "nbins = int(xmax*2/xres)\n",
    "H_interval=xres\n",
    "\n",
    "xdata = np.arange(-3, 6.1, 1)\n",
    "\n",
    "#fig2 = plt.figure(figsize=(7,7))\n",
    "#rowspan=10\n",
    "#colspan=9\n",
    "#ax1 = plt.subplot2grid((43,10), (0,0), colspan=colspan, rowspan=rowspan)\n",
    "#ax2 = plt.subplot2grid((43,10), (11,0), colspan=colspan, rowspan=rowspan)\n",
    "#ax3 = plt.subplot2grid((43,10), (22,0), colspan=colspan, rowspan=rowspan)\n",
    "#ax4 = plt.subplot2grid((43,10), (33,0), colspan=colspan, rowspan=rowspan)\n",
    "#axes_full = [ax1, ax2 ,ax3, ax4]\n",
    "\n",
    "\n",
    "fig2 = plt.figure(figsize=(7,7))\n",
    "rowspan=9\n",
    "colspan=12\n",
    "ax1 = plt.subplot2grid((21,25), (0,0), colspan=colspan, rowspan=rowspan)\n",
    "ax2 = plt.subplot2grid((21,25), (0,13), colspan=colspan, rowspan=rowspan)\n",
    "ax3 = plt.subplot2grid((21,25), (10,0), colspan=colspan, rowspan=rowspan)\n",
    "ax4 = plt.subplot2grid((21,25), (10,13), colspan=colspan, rowspan=rowspan)\n",
    "axes_full = [ax1, ax2 ,ax3, ax4]\n",
    "\n",
    "\n",
    "barplot_double_set(ax1, [SSTdiff[index_common_AR_events], SSTdiff[index_common_nAR_events]],\n",
    "                   [(Preg_fSST[0][index_common_AR_events]/Preg_HIST[0][index_common_AR_events]-1)*100,\n",
    "                    (Preg_fSST[0][index_common_nAR_events]/Preg_HIST[0][index_common_nAR_events]-1)*100],\n",
    "                   ['Total P (AR)', 'Total P (non-AR)'], ['royalblue', 'lightseagreen'])\n",
    "ax1.plot(xdata, (xdata*k_total_y+b_total_y)*100, lw=1, color='royalblue')\n",
    "ax1.plot(xdata, (xdata*k_total_n+b_total_n)*100, lw=1, color='lightseagreen')\n",
    "\n",
    "barplot_double_set(ax2, [SSTdiff[index_common_AR_events], SSTdiff[index_common_nAR_events]],\n",
    "                   [(Preg_fSST[1][index_common_AR_events]/Preg_HIST[1][index_common_AR_events]-1)*100,\n",
    "                    (Preg_fSST[1][index_common_nAR_events]/Preg_HIST[1][index_common_nAR_events]-1)*100],\n",
    "                   ['P intensity (AR)', 'P intensity (non-AR)'], ['royalblue', 'lightseagreen'])\n",
    "ax2.plot(xdata, (xdata*k_int_y+b_int_y)*100, lw=1, color='royalblue')\n",
    "ax2.plot(xdata, (xdata*k_int_n+b_int_n)*100, lw=1, color='lightseagreen')\n",
    "\n",
    "barplot_double_set(ax3, [SSTdiff[index_common_AR_events], SSTdiff[index_common_nAR_events]],\n",
    "                   [(Preg_fSST[2][index_common_AR_events]/Preg_HIST[2][index_common_AR_events]-1)*100,\n",
    "                    (Preg_fSST[2][index_common_nAR_events]/Preg_HIST[2][index_common_nAR_events]-1)*100],\n",
    "                   ['P area (AR)', 'P area (non-AR)'], ['royalblue', 'lightseagreen'])\n",
    "ax3.plot(xdata, (xdata*k_area_y+b_area_y)*100, lw=1, color='royalblue')\n",
    "ax3.plot(xdata, (xdata*k_area_n+b_area_n)*100, lw=1, color='lightseagreen')\n",
    "\n",
    "barplot_double_set(ax4, [diff_SST_AR, diff_SST_nAR], [diff_IWV_AR*100, diff_IWV_nAR*100],\n",
    "                   ['IWV (AR)', 'IWV (non-AR)'], ['royalblue', 'lightseagreen'])\n",
    "\n",
    "# decoration\n",
    "for i in np.arange(nbins):\n",
    "    threb = -1*xmax+i*xres\n",
    "    threu = -1*xmax+(i+1)*xres\n",
    "    for axis in axes_full:\n",
    "        # background       \n",
    "        if i%2==0:\n",
    "            patch = matplotlib.patches.Rectangle((threb,-1000), H_interval, 2000, color='white', alpha=1, zorder=0)\n",
    "        else:\n",
    "            patch = matplotlib.patches.Rectangle((threb,-1000), H_interval, 2000, color='lightgray', alpha=0.6, zorder=0)\n",
    "        axis.add_patch(patch)\n",
    "         \n",
    "for axis in axes_full:\n",
    "    axis.plot(np.arange(-20, 20), np.zeros(40), linestyle='--', linewidth=0.5, color='black')\n",
    "    axis.set_xlim([-2, xmax])\n",
    "    axis.set_xticks(np.arange(-2, xmax+0.000001, 1))\n",
    "    axis.set_xticklabels(np.arange(-2, xmax+xres+0.000001, 1, dtype=int))\n",
    "\n",
    "ax2.set_ylabel('Relative change\\n(%)', fontsize=14)\n",
    "    \n",
    "ax1.set_ylim([-50, 100])\n",
    "#ax1.set_yticks([-50, 0, 50, 100])\n",
    "#ax1.set_yticklabels(['-50', '0', '+50%', '+100%'])\n",
    "ax1.text(-1.5, -50+150/30, 'y=%.2fx+%.2f' % (k_total_y, b_total_y), color='royalblue', ha='left', va='bottom', fontsize=12)\n",
    "ax1.text(0, -50+150/30, 'y=%.2fx+%.2f' % (k_total_n, b_total_n), color='lightseagreen', ha='left', va='bottom', fontsize=12)\n",
    "ax2.set_ylim([-20, 40])\n",
    "ax2.text(-1.5, -20+60/30, 'y=%.2fx+%.2f' % (k_int_y, b_int_y), color='royalblue', ha='left', va='bottom', fontsize=12)\n",
    "ax2.text(0, -20+60/30, 'y=%.2fx+%.2f' % (k_int_n, b_int_n), color='lightseagreen', ha='left', va='bottom', fontsize=12)\n",
    "ax3.set_ylim([-30, 60])\n",
    "ax3.text(-1.5, -30+90/30, 'y=%.2fx+%.2f' % (k_area_y, b_area_y), color='royalblue', ha='left', va='bottom', fontsize=12)\n",
    "ax3.text(0, -30+90/30, 'y=%.2fx+%.2f' % (k_area_n, b_area_n), color='lightseagreen', ha='left', va='bottom', fontsize=12)\n",
    "ax4.set_ylim([-8, 16])\n",
    "ax4.text(-0.2, 0.04*(-0.9), 'y=%.3fx+%.3f' % (k_IWV_AR, b_IWV_AR), color='lightseagreen', ha='left', va='bottom', fontsize=12)\n",
    "ax4.text(-0.2, 0.08*(-0.9), 'y=%.3fx+%.3f' % (k_IWV_nAR, b_IWV_nAR), color='lightseagreen', ha='left', va='bottom', fontsize=12)\n",
    "\n",
    "\n",
    "ax1.text(-1.9, 100-150*0.05, '(a)', ha='left', va='top', fontsize=12)\n",
    "ax2.text(-1.9, 40-60*0.05, '(b)', ha='left', va='top', fontsize=12)\n",
    "ax3.text(-1.9, 60-90*0.05, '(c)', ha='left', va='top', fontsize=12)\n",
    "ax4.text(-1.9, 16-24*0.05, '(d)', ha='left', va='top', fontsize=12)\n",
    "\n",
    "for axis in [ax1, ax2]:\n",
    "    axis.set_xlabel('')\n",
    "    axis.set_xticklabels([])\n",
    "    \n",
    "for axis in [ax2, ax4]:\n",
    "    axis.yaxis.set_label_position(\"right\")\n",
    "    axis.yaxis.tick_right()\n",
    "\n",
    "ax1.set_title('Response of precipitation', fontsize=14)\n",
    "ax3.set_xlabel('SST perturbation (K)', fontsize=12)\n",
    "\n",
    "plt.show()\n",
    "plt.close()\n",
    "del(fig2)"
   ]
  },
  {
   "cell_type": "code",
   "execution_count": null,
   "metadata": {},
   "outputs": [],
   "source": []
  }
 ],
 "metadata": {
  "kernelspec": {
   "display_name": "Python 3",
   "language": "python",
   "name": "python3"
  },
  "language_info": {
   "codemirror_mode": {
    "name": "ipython",
    "version": 3
   },
   "file_extension": ".py",
   "mimetype": "text/x-python",
   "name": "python",
   "nbconvert_exporter": "python",
   "pygments_lexer": "ipython3",
   "version": "3.7.6"
  }
 },
 "nbformat": 4,
 "nbformat_minor": 4
}
