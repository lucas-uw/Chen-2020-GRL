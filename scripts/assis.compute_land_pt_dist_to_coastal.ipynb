{
 "cells": [
  {
   "cell_type": "code",
   "execution_count": 1,
   "metadata": {},
   "outputs": [],
   "source": [
    "import numpy as np\n",
    "import xarray as xr\n",
    "import netCDF4 as nc\n",
    "import matplotlib.pyplot as plt"
   ]
  },
  {
   "cell_type": "code",
   "execution_count": 3,
   "metadata": {},
   "outputs": [],
   "source": [
    "rootdir = '/raid1/chen423/serdp/archive/GRL2020/'"
   ]
  },
  {
   "cell_type": "markdown",
   "metadata": {},
   "source": [
    "### major AR-related functions"
   ]
  },
  {
   "cell_type": "code",
   "execution_count": 4,
   "metadata": {},
   "outputs": [],
   "source": [
    "def save_to_nc(outfile, indata):\n",
    "    outgroup = nc.Dataset(outfile, 'w', format='NETCDF4')\n",
    "\n",
    "    # dimension\n",
    "    xdim = outgroup.createDimension('x', 450)\n",
    "    ydim = outgroup.createDimension('y', 450)\n",
    "\n",
    "    # vars\n",
    "    xvar = outgroup.createVariable('x', 'i4', ('x'))\n",
    "    xvar[:] = np.arange(450)\n",
    "    yvar = outgroup.createVariable('y', 'i4', ('y'))\n",
    "    yvar[:] = np.arange(450)\n",
    "\n",
    "    var_lat = outgroup.createVariable('lat', 'f4', ('y', 'x'))\n",
    "    var_lat.long_name = 'Latitude'\n",
    "    var_lat.standard_name = 'latitude'\n",
    "    var_lat.units = 'degrees_north'\n",
    "    var_lon = outgroup.createVariable('lon', 'f4', ('y', 'x'))\n",
    "    var_lon.long_name = 'Longitude'\n",
    "    var_lon.standard_name = 'longitude'\n",
    "    var_lon.units = 'degrees_east'\n",
    "    var_tag = outgroup.createVariable('dist_to_coast', 'f4', ('y', 'x'))\n",
    "    var_tag.long_name = 'Distance to coast'\n",
    "    var_tag.units = 'km'\n",
    "    var_tag.coordinates = 'lon lat'\n",
    "    \n",
    "    var_lat[:] = wrf_lat\n",
    "    var_lon[:] = wrf_lon\n",
    "    var_tag[:] = indata\n",
    "    \n",
    "    outgroup.script = '/usr1/chen423/serdp/tools/ipython/paperX/AR-SST/step2.compute_land_pt_dist_to_coastal.ipynb'\n",
    "\n",
    "    outgroup.close()"
   ]
  },
  {
   "cell_type": "code",
   "execution_count": 5,
   "metadata": {},
   "outputs": [],
   "source": [
    "reffile = rootdir + 'data/common_ref/latlon.nc'\n",
    "wrf_lat = xr.open_dataset(reffile).XLAT_M.values\n",
    "wrf_lon = xr.open_dataset(reffile).XLONG_M.values\n",
    "wrf_landmask = xr.open_dataset(reffile).LANDMASK.values\n",
    "\n",
    "landmask_lake_fill = wrf_landmask.copy()\n",
    "\n",
    "landmask_lake_fill[:,190:450] = 1\n",
    "\n",
    "R=4\n",
    "for i in np.arange(R, 450-R):\n",
    "    for j in np.arange(R, 450-R):\n",
    "        if wrf_landmask[(i-R):(i+R), (j-R):(j+R)].sum()>4:\n",
    "            landmask_lake_fill[i,j] = 1"
   ]
  },
  {
   "cell_type": "code",
   "execution_count": 6,
   "metadata": {},
   "outputs": [],
   "source": [
    "index_x = np.zeros((450,450))\n",
    "index_y = np.zeros((450,450))\n",
    "\n",
    "for i in np.arange(450):\n",
    "    index_x[i,:] = np.ones(450)*i\n",
    "    index_y[:,i] = np.ones(450)*i"
   ]
  },
  {
   "cell_type": "code",
   "execution_count": 7,
   "metadata": {},
   "outputs": [],
   "source": [
    "ocean_xs = index_x[landmask_lake_fill==0]\n",
    "ocean_ys = index_y[landmask_lake_fill==0]"
   ]
  },
  {
   "cell_type": "code",
   "execution_count": 8,
   "metadata": {
    "scrolled": true
   },
   "outputs": [],
   "source": [
    "dist_matrix = np.zeros((450,450))\n",
    "\n",
    "for i in np.arange(450):\n",
    "    #print(i)\n",
    "    for j in np.arange(450):\n",
    "        if landmask_lake_fill[i,j]==1:\n",
    "            dist_matrix[i,j] = np.sqrt(((ocean_xs-i)**2 + (ocean_ys-j)**2).min())*6\n",
    "        else:\n",
    "            dist_matrix[i,j] = 9999"
   ]
  },
  {
   "cell_type": "code",
   "execution_count": 28,
   "metadata": {},
   "outputs": [],
   "source": [
    "#outfile = rootdir + 'data/common_ref/SERDP6km.dist_to_coastal.nc'\n",
    "            \n",
    "#save_to_nc(outfile, dist_matrix)"
   ]
  },
  {
   "cell_type": "code",
   "execution_count": null,
   "metadata": {},
   "outputs": [],
   "source": []
  },
  {
   "cell_type": "raw",
   "metadata": {},
   "source": [
    "fig1 = plt.figure(figsize=(5,5))\n",
    "ax1 = plt.subplot(1,1,1)\n",
    "\n",
    "#ax1.pcolormesh(landmask_lake_fill)\n",
    "ax1.pcolormesh(np.ma.masked_array(dist_matrix, mask=dist_matrix==0), vmin=0, vmax=1000)\n",
    "ax1.set_title('dist')\n",
    "\n",
    "plt.show()\n",
    "plt.close()\n",
    "del(fig1)"
   ]
  },
  {
   "cell_type": "code",
   "execution_count": null,
   "metadata": {},
   "outputs": [],
   "source": []
  }
 ],
 "metadata": {
  "kernelspec": {
   "display_name": "Python 3",
   "language": "python",
   "name": "python3"
  },
  "language_info": {
   "codemirror_mode": {
    "name": "ipython",
    "version": 3
   },
   "file_extension": ".py",
   "mimetype": "text/x-python",
   "name": "python",
   "nbconvert_exporter": "python",
   "pygments_lexer": "ipython3",
   "version": "3.7.6"
  }
 },
 "nbformat": 4,
 "nbformat_minor": 2
}
