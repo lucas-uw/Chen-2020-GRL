{
 "cells": [
  {
   "cell_type": "code",
   "execution_count": 1,
   "metadata": {},
   "outputs": [],
   "source": [
    "import numpy as np\n",
    "import xarray as xr\n",
    "import scipy.io as sio\n",
    "import pandas as pd\n",
    "import calendar\n",
    "import matplotlib.pyplot as plt\n",
    "%matplotlib inline"
   ]
  },
  {
   "cell_type": "code",
   "execution_count": 2,
   "metadata": {},
   "outputs": [],
   "source": [
    "import cartopy\n",
    "import cartopy.crs as ccrs\n",
    "\n",
    "# for shapefile\n",
    "from cartopy.io.shapereader import Reader\n",
    "from cartopy.feature import ShapelyFeature\n",
    "\n",
    "# NCL colormap\n",
    "import matplotlib\n",
    "import colormath, colormath.color_objects, colormath.color_conversions\n",
    "from colormath.color_objects import sRGBColor\n",
    "import urllib\n",
    "import re"
   ]
  },
  {
   "cell_type": "code",
   "execution_count": 3,
   "metadata": {},
   "outputs": [],
   "source": [
    "rootdir = '/raid1/chen423/serdp/archive/GRL2020/'\n",
    "\n",
    "plotdir = rootdir + 'plots/'"
   ]
  },
  {
   "cell_type": "code",
   "execution_count": 4,
   "metadata": {},
   "outputs": [],
   "source": [
    "color_obj_dict = {'sRGB':colormath.color_objects.sRGBColor,\n",
    "                  'HSV':colormath.color_objects.HSVColor,\n",
    "                  'Lab':colormath.color_objects.LabColor,\n",
    "                  'LCHuv':colormath.color_objects.LCHuvColor,\n",
    "                  'LCHab':colormath.color_objects.LCHabColor,\n",
    "                  'XYZ':colormath.color_objects.XYZColor}\n",
    "\n",
    "def __rgb_to_array(rgb_color):\n",
    "    r = np.minimum(1, round(rgb_color.rgb_r*10000)/10000)\n",
    "    g = np.minimum(1, round(rgb_color.rgb_g*10000)/10000)\n",
    "    b = np.minimum(1, round(rgb_color.rgb_b*10000)/10000)\n",
    "    return r,g,b\n",
    "\n",
    "\n",
    "def create_palette(start_rgb, end_rgb, n, colorspace):\n",
    "    # convert start and end to a point in the given colorspace\n",
    "    start = colormath.color_conversions.convert_color(start_rgb, colorspace).get_value_tuple()\n",
    "    end = colormath.color_conversions.convert_color(end_rgb, colorspace).get_value_tuple()\n",
    "\n",
    "    # create a set of n points along start to end\n",
    "    points = list(zip(*[np.linspace(start[i], end[i], n) for i in range(3)]))\n",
    "\n",
    "    # create a color for each point and convert back to rgb\n",
    "    rgb_colors = [colormath.color_conversions.convert_color(colorspace(*point), sRGBColor) for point in points]\n",
    "\n",
    "    # convert rgb colors to arrays\n",
    "    return [__rgb_to_array(color) for color in  rgb_colors]\n",
    "\n",
    "\n",
    "def __retrive_NCL_webcontent(cmapname):\n",
    "    target_url = 'https://www.ncl.ucar.edu/Document/Graphics/ColorTables/Files/%s.rgb' % cmapname\n",
    "    request = urllib.request.urlopen(target_url)\n",
    "    return request\n",
    "\n",
    "\n",
    "def __collect_discrete_NCL_cmap(cmapname):\n",
    "    rawdata = __retrive_NCL_webcontent(cmapname)\n",
    "    \n",
    "    cmap_color_list = list()\n",
    "    \n",
    "    color_section_sig = 0\n",
    "    \n",
    "    for line in rawdata:\n",
    "        \n",
    "        line_decode = line.decode('utf-8')\n",
    "        info = re.split('\\s+', line_decode.replace('\\n','').replace('^\\s+',''))\n",
    "        \n",
    "        if color_section_sig==1:\n",
    "            if info[0]=='' and len(info)>=3:\n",
    "                if np.maximum(np.maximum(float(info[1]), float(info[2])), float(info[3]))>1:\n",
    "                    cmap_color_list.append((float(info[1])/255, float(info[2])/255, float(info[3])/255))\n",
    "                else:\n",
    "                    cmap_color_list.append((float(info[1]), float(info[2]), float(info[3])))\n",
    "            if len(info)==3:\n",
    "                if ';' in info[0] or '#' in info[0]:\n",
    "                    whatisthis = 's'\n",
    "                else:\n",
    "                    if np.maximum(np.maximum(float(info[0]), float(info[1])), float(info[2]))>1:\n",
    "                        cmap_color_list.append((float(info[0])/255, float(info[1])/255, float(info[2])/255))\n",
    "                    else:\n",
    "                        cmap_color_list.append((float(info[0]), float(info[1]), float(info[2])))\n",
    "        \n",
    "        if 'ncolors' in str(info[0]):\n",
    "            color_section_sig = 1  # meaning now we are at color lines (or \"r g b\" line)\n",
    "\n",
    "    return cmap_color_list\n",
    "\n",
    "\n",
    "def __cmap_refinement(raw_cmap_rgb, n_interpolate=10, workspace=color_obj_dict['sRGB']):\n",
    "    # workspace:  choose which color space the refinement is conducted.\n",
    "    #             refer to https://stackoverflow.com/questions/55032648/given-a-start-color-and-a-middle-color-how-to-get-the-remaining-colors-python\n",
    "    \n",
    "    n_in = len(raw_cmap_rgb)\n",
    "\n",
    "    new_array = list()\n",
    "\n",
    "    for i in np.arange(n_in-1):\n",
    "        out_colors = create_palette(sRGBColor(*raw_cmap_rgb[i], is_upscaled=False), sRGBColor(*raw_cmap_rgb[i+1], is_upscaled=False), n_interpolate+1, workspace)\n",
    "        for j in np.arange(len(out_colors)-1):\n",
    "            new_array.append(out_colors[j])\n",
    "            \n",
    "    return new_array\n",
    "\n",
    "\n",
    "def generate_NCL_cmap(cmapname, cont_opt=False, cont_param_n=10, cont_param_ws='sRGB',\n",
    "                      white_first=False, white_ext=False, reverse_cmap=False):\n",
    "    # description:\n",
    "    #     cmapname:      taken as shown on the NCL website\n",
    "    #     cont_opt:      to convert the discreate colormap to continuous colormap\n",
    "    #     cont_param_n:  how many \"intermediate\" colors to be inserted to the nearby discreate colors\n",
    "    #     cont_param_ws: color space to conduct interploation. Default to \"sRGB\", which should work for most cases\n",
    "    #     white_first:   whether to set the first color as white. May be useful if the minimum does not mean anything\n",
    "    \n",
    "    cmap_discrete_raw = __collect_discrete_NCL_cmap(cmapname)\n",
    "    \n",
    "    if reverse_cmap==True:\n",
    "        cmap_discrete_raw.reverse()\n",
    "    \n",
    "    if white_first==True:\n",
    "        if white_ext==True:\n",
    "            cmap_discrete = list()\n",
    "            cmap_discrete.append((1,1,1))\n",
    "            for i in np.arange(len(cmap_discrete_raw)):\n",
    "                cmap_discrete.append(cmap_discrete_raw[int(i)])\n",
    "        else:\n",
    "            cmap_discrete = cmap_discrete_raw.copy()\n",
    "        cmap_discrete[0] = (1,1,1)\n",
    "    else:\n",
    "        cmap_discrete = cmap_discrete_raw\n",
    "    \n",
    "    if cont_opt==False:\n",
    "        out_cmap = cmap_discrete\n",
    "        \n",
    "    if cont_opt==True:\n",
    "        out_cmap = __cmap_refinement(cmap_discrete, n_interpolate=cont_param_n, workspace=color_obj_dict[cont_param_ws])\n",
    "        \n",
    "    return matplotlib.colors.ListedColormap(out_cmap)\n",
    "\n",
    "def crt_cbar_labels(vmax, n_interval, mode='diff', decimal_flag=0, perc_flag=False, vmin=0):\n",
    "    # crt_cbar_labels:  create the colorbar label lists\n",
    "    #   mode:  choose between \"diff\" and \"0ton\". \"diff\" means setting the colorbar as -vmax to vmax, \"0ton\" \n",
    "    #          means setting the colorbar as 0 to vmax\n",
    "    #   n_interval:  how many segments are there? See example below.\n",
    "    #   decimal_flag:  control the text format. Default to 0.\n",
    "    #\n",
    "    # Example:\n",
    "    #      > crt_cbar_labels(80, 4, mode='diff', decimal_flag=0)\n",
    "    #      >  ['-80', '-40', '0', '40', '80']\n",
    "    #      > crt_cbar_labels(80, 4, mode='0ton', decimal_flag=1)\n",
    "    #      >  ['0.0', '20.0', '40.0', '60.0', '80.0']\n",
    "    \n",
    "    if perc_flag==True:\n",
    "        format_string = '%%.%df%%%%' % (decimal_flag)\n",
    "    else:\n",
    "        format_string = '%%.%df' % (decimal_flag)\n",
    "    #print(format_string)\n",
    "    outdata = []\n",
    "    \n",
    "    if mode=='diff':\n",
    "        n_interval = n_interval/2\n",
    "        for i in np.arange(-1*n_interval, n_interval+0.000001, 1):\n",
    "            outdata.append(format_string%(vmax*i/n_interval))\n",
    "    if mode=='0ton':\n",
    "        for i in np.arange(0, n_interval+0.000001, 1):\n",
    "            outdata.append(format_string%(vmax*i/n_interval))\n",
    "    if mode=='minmax':\n",
    "        for i in np.arange(0, n_interval+0.000001, 1):\n",
    "            outdata.append(format_string%(vmin + (vmax-vmin)*i/n_interval))\n",
    "        \n",
    "    return outdata"
   ]
  },
  {
   "cell_type": "code",
   "execution_count": 5,
   "metadata": {},
   "outputs": [],
   "source": [
    "def visualize_wUS_map(axis, lons, lats, indata, cmap='bwr_r', label='', color=False,\n",
    "                      location=[False,False,False,False], norm=False, vmin=0, vmax=1, title='',\n",
    "                      xlim=[-127,-100], ylim=[26,55], map_bdy=False, wUS_bdy=False, wUS_range=4, **kwarg):\n",
    "    if color!=False:\n",
    "        axis.pcolormesh(lons, lats, indata, color=color, **kwarg)\n",
    "    else:\n",
    "        if norm==False:\n",
    "            axis.pcolormesh(lons, lats, indata, cmap=cmap, vmin=vmin, vmax=vmax, zorder=2, **kwarg)\n",
    "        else:\n",
    "            axis.pcolormesh(lons, lats, indata, cmap=cmap, norm=norm, zorder=2, **kwarg)\n",
    "\n",
    "    axis.set_xlim(xlim)\n",
    "    axis.set_ylim(ylim)\n",
    "    \n",
    "    if map_bdy==False:\n",
    "        # turn off the bounding box for cartopy\n",
    "        axis.outline_patch.set_visible(False)\n",
    "\n",
    "    axis.add_feature(cartopy.feature.OCEAN, linewidth=0.5, facecolor='none', edgecolor='k', zorder=0)\n",
    "    axis.add_feature(cartopy.feature.LAND, linewidth=0.5, facecolor='none', edgecolor='k', zorder=1)\n",
    "\n",
    "    if wUS_bdy==True:\n",
    "        shpfile = rootdir + 'data/common_ref/wUS_%dstates/US_states.shp' % (wUS_range)\n",
    "        shape_feature = ShapelyFeature(Reader(shpfile).geometries(), ccrs.PlateCarree(), \n",
    "                                       facecolor='none', edgecolor='black', linewidth=1)\n",
    "        axis.add_feature(shape_feature, zorder=4)\n",
    "\n",
    "    countries = cartopy.feature.NaturalEarthFeature(category='cultural', scale='10m', edgecolor='grey', linewidth=0.5,\\\n",
    "                                                    facecolor='none', name='admin_1_states_provinces')\n",
    "    axis.add_feature(countries, zorder=3)\n",
    "    \n",
    "    gl = axis.gridlines(crs=ccrs.PlateCarree(), draw_labels=True, linestyle='--', alpha=1)\n",
    "    gl.xlabels_top = location[0]\n",
    "    gl.xlabels_bottom = location[1]\n",
    "    gl.ylabels_left = location[2]\n",
    "    gl.ylabels_right = location[3]\n",
    "    gl.xlocator = matplotlib.ticker.FixedLocator(np.arange(-180,-59,10))\n",
    "    gl.ylocator = matplotlib.ticker.FixedLocator(np.arange(0,81,10))\n",
    "    \n",
    "    axis.set_title(title, size=12)\n",
    "    axis.text(-124, 34, label, ha='left', va='top', size=12)"
   ]
  },
  {
   "cell_type": "code",
   "execution_count": 6,
   "metadata": {},
   "outputs": [],
   "source": [
    "def plot_WRF_domain_boundary(axes, **kwargs):\n",
    "    \n",
    "    nx, ny = wrf_lats.shape[0:2]\n",
    "    axes.plot(wrf_lons[0,:], wrf_lats[0,:], **kwargs)\n",
    "    axes.plot(wrf_lons[nx-1,:], wrf_lats[nx-1,:], **kwargs)\n",
    "    axes.plot(wrf_lons[:,0], wrf_lats[:,0], **kwargs)\n",
    "    axes.plot(wrf_lons[:,ny-1], wrf_lats[:,ny-1], **kwargs)"
   ]
  },
  {
   "cell_type": "code",
   "execution_count": 7,
   "metadata": {},
   "outputs": [],
   "source": [
    "def crt_filenames(model, year, month):\n",
    "    \n",
    "    WRFdir = rootdir + 'data/%s/WRF_IWV_uvIVT/' % model\n",
    "    WRFfile = WRFdir + 'WRF_IWV_uvIVT.6hr.%d.%d.nc' % (year, month)\n",
    "    \n",
    "    return WRFfile"
   ]
  },
  {
   "cell_type": "code",
   "execution_count": 8,
   "metadata": {},
   "outputs": [],
   "source": [
    "def get_AR_intensity_data(model, year, month):\n",
    "    \n",
    "    WRFfile = crt_filenames(model, year, month)\n",
    "    \n",
    "    WRF_IVT = xr.open_dataset(WRFfile).uvIVT.values\n",
    "    WRF_IWV = xr.open_dataset(WRFfile).IWV.values\n",
    "    \n",
    "    return WRF_IVT, WRF_IWV"
   ]
  },
  {
   "cell_type": "markdown",
   "metadata": {},
   "source": [
    "## 1. Find appropriate month"
   ]
  },
  {
   "cell_type": "code",
   "execution_count": 9,
   "metadata": {},
   "outputs": [],
   "source": [
    "def crt_refdata():\n",
    "    reffile = rootdir + 'data/common_ref/latlon.nc'\n",
    "    lats = xr.open_dataset(reffile).XLAT_M.values\n",
    "    lons = xr.open_dataset(reffile).XLONG_M.values\n",
    "    \n",
    "    return lats, lons\n",
    "    \n",
    "wrf_lats, wrf_lons = crt_refdata()\n",
    "\n",
    "reffile = rootdir + 'data/common_ref/SERDP6km.dist_to_coastal.nc'\n",
    "dist_to_coast = xr.open_dataset(reffile).dist_to_coast.values\n",
    "dist_to_coast[dist_to_coast==9999] = 0\n",
    "ocean_mask = np.zeros((450,450))\n",
    "ocean_mask[dist_to_coast==0] = 1\n",
    "\n",
    "\n",
    "reffile = rootdir + 'data/common_ref/US_state.nc'\n",
    "USstate = 1-xr.open_dataset(reffile).state_mask.values[0:5].sum(axis=0)"
   ]
  },
  {
   "cell_type": "code",
   "execution_count": 10,
   "metadata": {},
   "outputs": [
    {
     "name": "stdout",
     "output_type": "stream",
     "text": [
      "ARp85_s1000_state1_post1_c1000\n"
     ]
    }
   ],
   "source": [
    "ARtag = 'p85'\n",
    "\n",
    "flag_area = 1000   # minimum size of patches\n",
    "flag_USstate = 1  # whether to use US west coast 5 states along with land mask. 1 is to use, 0 is to skip\n",
    "flag_post_adj = 1 # WRF further adjusted, or not (i.e., directly from modified NARR). 1 is further adjusted, 0 for raw\n",
    "\n",
    "commonAR_thre = 1000\n",
    "\n",
    "version_tag = 'AR%s_s%d_state%d_post%d_c%d' % (ARtag, flag_area, flag_USstate, flag_post_adj, commonAR_thre)\n",
    "print(version_tag)"
   ]
  },
  {
   "cell_type": "code",
   "execution_count": 11,
   "metadata": {},
   "outputs": [],
   "source": [
    "year = 2005\n",
    "month = 3"
   ]
  },
  {
   "cell_type": "code",
   "execution_count": 12,
   "metadata": {},
   "outputs": [],
   "source": [
    "file_ARHIST = rootdir + 'data/HIST/AR_tag/Gershunov/SERDP6km_adj/WRF_ARtag_adj.HIST.Gershunov.%d.%d.AR%s.nc' % (year, month, ARtag)\n",
    "file_ARfSST = rootdir + 'data/fSST/AR_tag/Gershunov/SERDP6km_adj/WRF_ARtag_adj.fSST.Gershunov.%d.%d.AR%s.nc' % (year, month, ARtag)\n",
    "\n",
    "ARtag_HIST = xr.open_dataset(file_ARHIST).AR_tag.values\n",
    "ARtag_fSST = xr.open_dataset(file_ARfSST).AR_tag.values"
   ]
  },
  {
   "cell_type": "code",
   "execution_count": 13,
   "metadata": {},
   "outputs": [],
   "source": [
    "file_SSTHIST = rootdir + 'data/HIST/SST/NARR_TS.SERDP6km.6hourly.%d.%d.nc' % (year, month)\n",
    "    \n",
    "file_SSTfix = rootdir + 'data/HIST/SST/NARR_TS.SERDP6km.2000.10.01.00.nc'\n",
    "    \n",
    "    \n",
    "SST_HIST = xr.open_dataset(file_SSTHIST).var11.values\n",
    "\n",
    "SST_fSST = xr.open_dataset(file_SSTfix).var11.values[0]"
   ]
  },
  {
   "cell_type": "code",
   "execution_count": 14,
   "metadata": {},
   "outputs": [
    {
     "ename": "FileNotFoundError",
     "evalue": "[Errno 2] No such file or directory: b'/raid1/chen423/serdp/archive/GRL2020/data/HIST/WRF_IWV_uvIVT/WRF_IWV_uvIVT.6hr.2005.3.nc'",
     "output_type": "error",
     "traceback": [
      "\u001b[0;31m---------------------------------------------------------------------------\u001b[0m",
      "\u001b[0;31mKeyError\u001b[0m                                  Traceback (most recent call last)",
      "\u001b[0;32m/opt/anaconda3_cv/lib/python3.7/site-packages/xarray/backends/file_manager.py\u001b[0m in \u001b[0;36m_acquire_with_cache_info\u001b[0;34m(self, needs_lock)\u001b[0m\n\u001b[1;32m    197\u001b[0m             \u001b[0;32mtry\u001b[0m\u001b[0;34m:\u001b[0m\u001b[0;34m\u001b[0m\u001b[0;34m\u001b[0m\u001b[0m\n\u001b[0;32m--> 198\u001b[0;31m                 \u001b[0mfile\u001b[0m \u001b[0;34m=\u001b[0m \u001b[0mself\u001b[0m\u001b[0;34m.\u001b[0m\u001b[0m_cache\u001b[0m\u001b[0;34m[\u001b[0m\u001b[0mself\u001b[0m\u001b[0;34m.\u001b[0m\u001b[0m_key\u001b[0m\u001b[0;34m]\u001b[0m\u001b[0;34m\u001b[0m\u001b[0;34m\u001b[0m\u001b[0m\n\u001b[0m\u001b[1;32m    199\u001b[0m             \u001b[0;32mexcept\u001b[0m \u001b[0mKeyError\u001b[0m\u001b[0;34m:\u001b[0m\u001b[0;34m\u001b[0m\u001b[0;34m\u001b[0m\u001b[0m\n",
      "\u001b[0;32m/opt/anaconda3_cv/lib/python3.7/site-packages/xarray/backends/lru_cache.py\u001b[0m in \u001b[0;36m__getitem__\u001b[0;34m(self, key)\u001b[0m\n\u001b[1;32m     52\u001b[0m         \u001b[0;32mwith\u001b[0m \u001b[0mself\u001b[0m\u001b[0;34m.\u001b[0m\u001b[0m_lock\u001b[0m\u001b[0;34m:\u001b[0m\u001b[0;34m\u001b[0m\u001b[0;34m\u001b[0m\u001b[0m\n\u001b[0;32m---> 53\u001b[0;31m             \u001b[0mvalue\u001b[0m \u001b[0;34m=\u001b[0m \u001b[0mself\u001b[0m\u001b[0;34m.\u001b[0m\u001b[0m_cache\u001b[0m\u001b[0;34m[\u001b[0m\u001b[0mkey\u001b[0m\u001b[0;34m]\u001b[0m\u001b[0;34m\u001b[0m\u001b[0;34m\u001b[0m\u001b[0m\n\u001b[0m\u001b[1;32m     54\u001b[0m             \u001b[0mself\u001b[0m\u001b[0;34m.\u001b[0m\u001b[0m_cache\u001b[0m\u001b[0;34m.\u001b[0m\u001b[0mmove_to_end\u001b[0m\u001b[0;34m(\u001b[0m\u001b[0mkey\u001b[0m\u001b[0;34m)\u001b[0m\u001b[0;34m\u001b[0m\u001b[0;34m\u001b[0m\u001b[0m\n",
      "\u001b[0;31mKeyError\u001b[0m: [<class 'netCDF4._netCDF4.Dataset'>, ('/raid1/chen423/serdp/archive/GRL2020/data/HIST/WRF_IWV_uvIVT/WRF_IWV_uvIVT.6hr.2005.3.nc',), 'r', (('clobber', True), ('diskless', False), ('format', 'NETCDF4'), ('persist', False))]",
      "\nDuring handling of the above exception, another exception occurred:\n",
      "\u001b[0;31mFileNotFoundError\u001b[0m                         Traceback (most recent call last)",
      "\u001b[0;32m<ipython-input-14-03da4f43cd03>\u001b[0m in \u001b[0;36m<module>\u001b[0;34m\u001b[0m\n\u001b[0;32m----> 1\u001b[0;31m \u001b[0mIVT_HIST\u001b[0m\u001b[0;34m,\u001b[0m \u001b[0mIWV_HIST\u001b[0m \u001b[0;34m=\u001b[0m \u001b[0mget_AR_intensity_data\u001b[0m\u001b[0;34m(\u001b[0m\u001b[0;34m'HIST'\u001b[0m\u001b[0;34m,\u001b[0m \u001b[0myear\u001b[0m\u001b[0;34m,\u001b[0m \u001b[0mmonth\u001b[0m\u001b[0;34m)\u001b[0m\u001b[0;34m\u001b[0m\u001b[0;34m\u001b[0m\u001b[0m\n\u001b[0m\u001b[1;32m      2\u001b[0m \u001b[0;34m\u001b[0m\u001b[0m\n\u001b[1;32m      3\u001b[0m \u001b[0mIVT_fSST\u001b[0m\u001b[0;34m,\u001b[0m \u001b[0mIWV_fSST\u001b[0m \u001b[0;34m=\u001b[0m \u001b[0mget_AR_intensity_data\u001b[0m\u001b[0;34m(\u001b[0m\u001b[0;34m'fSST'\u001b[0m\u001b[0;34m,\u001b[0m \u001b[0myear\u001b[0m\u001b[0;34m,\u001b[0m \u001b[0mmonth\u001b[0m\u001b[0;34m)\u001b[0m\u001b[0;34m\u001b[0m\u001b[0;34m\u001b[0m\u001b[0m\n",
      "\u001b[0;32m<ipython-input-8-360bb5ebd8b5>\u001b[0m in \u001b[0;36mget_AR_intensity_data\u001b[0;34m(model, year, month)\u001b[0m\n\u001b[1;32m      3\u001b[0m     \u001b[0mWRFfile\u001b[0m \u001b[0;34m=\u001b[0m \u001b[0mcrt_filenames\u001b[0m\u001b[0;34m(\u001b[0m\u001b[0mmodel\u001b[0m\u001b[0;34m,\u001b[0m \u001b[0myear\u001b[0m\u001b[0;34m,\u001b[0m \u001b[0mmonth\u001b[0m\u001b[0;34m)\u001b[0m\u001b[0;34m\u001b[0m\u001b[0;34m\u001b[0m\u001b[0m\n\u001b[1;32m      4\u001b[0m \u001b[0;34m\u001b[0m\u001b[0m\n\u001b[0;32m----> 5\u001b[0;31m     \u001b[0mWRF_IVT\u001b[0m \u001b[0;34m=\u001b[0m \u001b[0mxr\u001b[0m\u001b[0;34m.\u001b[0m\u001b[0mopen_dataset\u001b[0m\u001b[0;34m(\u001b[0m\u001b[0mWRFfile\u001b[0m\u001b[0;34m)\u001b[0m\u001b[0;34m.\u001b[0m\u001b[0muvIVT\u001b[0m\u001b[0;34m.\u001b[0m\u001b[0mvalues\u001b[0m\u001b[0;34m\u001b[0m\u001b[0;34m\u001b[0m\u001b[0m\n\u001b[0m\u001b[1;32m      6\u001b[0m     \u001b[0mWRF_IWV\u001b[0m \u001b[0;34m=\u001b[0m \u001b[0mxr\u001b[0m\u001b[0;34m.\u001b[0m\u001b[0mopen_dataset\u001b[0m\u001b[0;34m(\u001b[0m\u001b[0mWRFfile\u001b[0m\u001b[0;34m)\u001b[0m\u001b[0;34m.\u001b[0m\u001b[0mIWV\u001b[0m\u001b[0;34m.\u001b[0m\u001b[0mvalues\u001b[0m\u001b[0;34m\u001b[0m\u001b[0;34m\u001b[0m\u001b[0m\n\u001b[1;32m      7\u001b[0m \u001b[0;34m\u001b[0m\u001b[0m\n",
      "\u001b[0;32m/opt/anaconda3_cv/lib/python3.7/site-packages/xarray/backends/api.py\u001b[0m in \u001b[0;36mopen_dataset\u001b[0;34m(filename_or_obj, group, decode_cf, mask_and_scale, decode_times, autoclose, concat_characters, decode_coords, engine, chunks, lock, cache, drop_variables, backend_kwargs, use_cftime)\u001b[0m\n\u001b[1;32m    500\u001b[0m         \u001b[0;32mif\u001b[0m \u001b[0mengine\u001b[0m \u001b[0;34m==\u001b[0m \u001b[0;34m\"netcdf4\"\u001b[0m\u001b[0;34m:\u001b[0m\u001b[0;34m\u001b[0m\u001b[0;34m\u001b[0m\u001b[0m\n\u001b[1;32m    501\u001b[0m             store = backends.NetCDF4DataStore.open(\n\u001b[0;32m--> 502\u001b[0;31m                 \u001b[0mfilename_or_obj\u001b[0m\u001b[0;34m,\u001b[0m \u001b[0mgroup\u001b[0m\u001b[0;34m=\u001b[0m\u001b[0mgroup\u001b[0m\u001b[0;34m,\u001b[0m \u001b[0mlock\u001b[0m\u001b[0;34m=\u001b[0m\u001b[0mlock\u001b[0m\u001b[0;34m,\u001b[0m \u001b[0;34m**\u001b[0m\u001b[0mbackend_kwargs\u001b[0m\u001b[0;34m\u001b[0m\u001b[0;34m\u001b[0m\u001b[0m\n\u001b[0m\u001b[1;32m    503\u001b[0m             )\n\u001b[1;32m    504\u001b[0m         \u001b[0;32melif\u001b[0m \u001b[0mengine\u001b[0m \u001b[0;34m==\u001b[0m \u001b[0;34m\"scipy\"\u001b[0m\u001b[0;34m:\u001b[0m\u001b[0;34m\u001b[0m\u001b[0;34m\u001b[0m\u001b[0m\n",
      "\u001b[0;32m/opt/anaconda3_cv/lib/python3.7/site-packages/xarray/backends/netCDF4_.py\u001b[0m in \u001b[0;36mopen\u001b[0;34m(cls, filename, mode, format, group, clobber, diskless, persist, lock, lock_maker, autoclose)\u001b[0m\n\u001b[1;32m    356\u001b[0m             \u001b[0mnetCDF4\u001b[0m\u001b[0;34m.\u001b[0m\u001b[0mDataset\u001b[0m\u001b[0;34m,\u001b[0m \u001b[0mfilename\u001b[0m\u001b[0;34m,\u001b[0m \u001b[0mmode\u001b[0m\u001b[0;34m=\u001b[0m\u001b[0mmode\u001b[0m\u001b[0;34m,\u001b[0m \u001b[0mkwargs\u001b[0m\u001b[0;34m=\u001b[0m\u001b[0mkwargs\u001b[0m\u001b[0;34m\u001b[0m\u001b[0;34m\u001b[0m\u001b[0m\n\u001b[1;32m    357\u001b[0m         )\n\u001b[0;32m--> 358\u001b[0;31m         \u001b[0;32mreturn\u001b[0m \u001b[0mcls\u001b[0m\u001b[0;34m(\u001b[0m\u001b[0mmanager\u001b[0m\u001b[0;34m,\u001b[0m \u001b[0mgroup\u001b[0m\u001b[0;34m=\u001b[0m\u001b[0mgroup\u001b[0m\u001b[0;34m,\u001b[0m \u001b[0mmode\u001b[0m\u001b[0;34m=\u001b[0m\u001b[0mmode\u001b[0m\u001b[0;34m,\u001b[0m \u001b[0mlock\u001b[0m\u001b[0;34m=\u001b[0m\u001b[0mlock\u001b[0m\u001b[0;34m,\u001b[0m \u001b[0mautoclose\u001b[0m\u001b[0;34m=\u001b[0m\u001b[0mautoclose\u001b[0m\u001b[0;34m)\u001b[0m\u001b[0;34m\u001b[0m\u001b[0;34m\u001b[0m\u001b[0m\n\u001b[0m\u001b[1;32m    359\u001b[0m \u001b[0;34m\u001b[0m\u001b[0m\n\u001b[1;32m    360\u001b[0m     \u001b[0;32mdef\u001b[0m \u001b[0m_acquire\u001b[0m\u001b[0;34m(\u001b[0m\u001b[0mself\u001b[0m\u001b[0;34m,\u001b[0m \u001b[0mneeds_lock\u001b[0m\u001b[0;34m=\u001b[0m\u001b[0;32mTrue\u001b[0m\u001b[0;34m)\u001b[0m\u001b[0;34m:\u001b[0m\u001b[0;34m\u001b[0m\u001b[0;34m\u001b[0m\u001b[0m\n",
      "\u001b[0;32m/opt/anaconda3_cv/lib/python3.7/site-packages/xarray/backends/netCDF4_.py\u001b[0m in \u001b[0;36m__init__\u001b[0;34m(self, manager, group, mode, lock, autoclose)\u001b[0m\n\u001b[1;32m    312\u001b[0m         \u001b[0mself\u001b[0m\u001b[0;34m.\u001b[0m\u001b[0m_group\u001b[0m \u001b[0;34m=\u001b[0m \u001b[0mgroup\u001b[0m\u001b[0;34m\u001b[0m\u001b[0;34m\u001b[0m\u001b[0m\n\u001b[1;32m    313\u001b[0m         \u001b[0mself\u001b[0m\u001b[0;34m.\u001b[0m\u001b[0m_mode\u001b[0m \u001b[0;34m=\u001b[0m \u001b[0mmode\u001b[0m\u001b[0;34m\u001b[0m\u001b[0;34m\u001b[0m\u001b[0m\n\u001b[0;32m--> 314\u001b[0;31m         \u001b[0mself\u001b[0m\u001b[0;34m.\u001b[0m\u001b[0mformat\u001b[0m \u001b[0;34m=\u001b[0m \u001b[0mself\u001b[0m\u001b[0;34m.\u001b[0m\u001b[0mds\u001b[0m\u001b[0;34m.\u001b[0m\u001b[0mdata_model\u001b[0m\u001b[0;34m\u001b[0m\u001b[0;34m\u001b[0m\u001b[0m\n\u001b[0m\u001b[1;32m    315\u001b[0m         \u001b[0mself\u001b[0m\u001b[0;34m.\u001b[0m\u001b[0m_filename\u001b[0m \u001b[0;34m=\u001b[0m \u001b[0mself\u001b[0m\u001b[0;34m.\u001b[0m\u001b[0mds\u001b[0m\u001b[0;34m.\u001b[0m\u001b[0mfilepath\u001b[0m\u001b[0;34m(\u001b[0m\u001b[0;34m)\u001b[0m\u001b[0;34m\u001b[0m\u001b[0;34m\u001b[0m\u001b[0m\n\u001b[1;32m    316\u001b[0m         \u001b[0mself\u001b[0m\u001b[0;34m.\u001b[0m\u001b[0mis_remote\u001b[0m \u001b[0;34m=\u001b[0m \u001b[0mis_remote_uri\u001b[0m\u001b[0;34m(\u001b[0m\u001b[0mself\u001b[0m\u001b[0;34m.\u001b[0m\u001b[0m_filename\u001b[0m\u001b[0;34m)\u001b[0m\u001b[0;34m\u001b[0m\u001b[0;34m\u001b[0m\u001b[0m\n",
      "\u001b[0;32m/opt/anaconda3_cv/lib/python3.7/site-packages/xarray/backends/netCDF4_.py\u001b[0m in \u001b[0;36mds\u001b[0;34m(self)\u001b[0m\n\u001b[1;32m    365\u001b[0m     \u001b[0;34m@\u001b[0m\u001b[0mproperty\u001b[0m\u001b[0;34m\u001b[0m\u001b[0;34m\u001b[0m\u001b[0m\n\u001b[1;32m    366\u001b[0m     \u001b[0;32mdef\u001b[0m \u001b[0mds\u001b[0m\u001b[0;34m(\u001b[0m\u001b[0mself\u001b[0m\u001b[0;34m)\u001b[0m\u001b[0;34m:\u001b[0m\u001b[0;34m\u001b[0m\u001b[0;34m\u001b[0m\u001b[0m\n\u001b[0;32m--> 367\u001b[0;31m         \u001b[0;32mreturn\u001b[0m \u001b[0mself\u001b[0m\u001b[0;34m.\u001b[0m\u001b[0m_acquire\u001b[0m\u001b[0;34m(\u001b[0m\u001b[0;34m)\u001b[0m\u001b[0;34m\u001b[0m\u001b[0;34m\u001b[0m\u001b[0m\n\u001b[0m\u001b[1;32m    368\u001b[0m \u001b[0;34m\u001b[0m\u001b[0m\n\u001b[1;32m    369\u001b[0m     \u001b[0;32mdef\u001b[0m \u001b[0mopen_store_variable\u001b[0m\u001b[0;34m(\u001b[0m\u001b[0mself\u001b[0m\u001b[0;34m,\u001b[0m \u001b[0mname\u001b[0m\u001b[0;34m,\u001b[0m \u001b[0mvar\u001b[0m\u001b[0;34m)\u001b[0m\u001b[0;34m:\u001b[0m\u001b[0;34m\u001b[0m\u001b[0;34m\u001b[0m\u001b[0m\n",
      "\u001b[0;32m/opt/anaconda3_cv/lib/python3.7/site-packages/xarray/backends/netCDF4_.py\u001b[0m in \u001b[0;36m_acquire\u001b[0;34m(self, needs_lock)\u001b[0m\n\u001b[1;32m    359\u001b[0m \u001b[0;34m\u001b[0m\u001b[0m\n\u001b[1;32m    360\u001b[0m     \u001b[0;32mdef\u001b[0m \u001b[0m_acquire\u001b[0m\u001b[0;34m(\u001b[0m\u001b[0mself\u001b[0m\u001b[0;34m,\u001b[0m \u001b[0mneeds_lock\u001b[0m\u001b[0;34m=\u001b[0m\u001b[0;32mTrue\u001b[0m\u001b[0;34m)\u001b[0m\u001b[0;34m:\u001b[0m\u001b[0;34m\u001b[0m\u001b[0;34m\u001b[0m\u001b[0m\n\u001b[0;32m--> 361\u001b[0;31m         \u001b[0;32mwith\u001b[0m \u001b[0mself\u001b[0m\u001b[0;34m.\u001b[0m\u001b[0m_manager\u001b[0m\u001b[0;34m.\u001b[0m\u001b[0macquire_context\u001b[0m\u001b[0;34m(\u001b[0m\u001b[0mneeds_lock\u001b[0m\u001b[0;34m)\u001b[0m \u001b[0;32mas\u001b[0m \u001b[0mroot\u001b[0m\u001b[0;34m:\u001b[0m\u001b[0;34m\u001b[0m\u001b[0;34m\u001b[0m\u001b[0m\n\u001b[0m\u001b[1;32m    362\u001b[0m             \u001b[0mds\u001b[0m \u001b[0;34m=\u001b[0m \u001b[0m_nc4_require_group\u001b[0m\u001b[0;34m(\u001b[0m\u001b[0mroot\u001b[0m\u001b[0;34m,\u001b[0m \u001b[0mself\u001b[0m\u001b[0;34m.\u001b[0m\u001b[0m_group\u001b[0m\u001b[0;34m,\u001b[0m \u001b[0mself\u001b[0m\u001b[0;34m.\u001b[0m\u001b[0m_mode\u001b[0m\u001b[0;34m)\u001b[0m\u001b[0;34m\u001b[0m\u001b[0;34m\u001b[0m\u001b[0m\n\u001b[1;32m    363\u001b[0m         \u001b[0;32mreturn\u001b[0m \u001b[0mds\u001b[0m\u001b[0;34m\u001b[0m\u001b[0;34m\u001b[0m\u001b[0m\n",
      "\u001b[0;32m/opt/anaconda3_cv/lib/python3.7/contextlib.py\u001b[0m in \u001b[0;36m__enter__\u001b[0;34m(self)\u001b[0m\n\u001b[1;32m    110\u001b[0m         \u001b[0;32mdel\u001b[0m \u001b[0mself\u001b[0m\u001b[0;34m.\u001b[0m\u001b[0margs\u001b[0m\u001b[0;34m,\u001b[0m \u001b[0mself\u001b[0m\u001b[0;34m.\u001b[0m\u001b[0mkwds\u001b[0m\u001b[0;34m,\u001b[0m \u001b[0mself\u001b[0m\u001b[0;34m.\u001b[0m\u001b[0mfunc\u001b[0m\u001b[0;34m\u001b[0m\u001b[0;34m\u001b[0m\u001b[0m\n\u001b[1;32m    111\u001b[0m         \u001b[0;32mtry\u001b[0m\u001b[0;34m:\u001b[0m\u001b[0;34m\u001b[0m\u001b[0;34m\u001b[0m\u001b[0m\n\u001b[0;32m--> 112\u001b[0;31m             \u001b[0;32mreturn\u001b[0m \u001b[0mnext\u001b[0m\u001b[0;34m(\u001b[0m\u001b[0mself\u001b[0m\u001b[0;34m.\u001b[0m\u001b[0mgen\u001b[0m\u001b[0;34m)\u001b[0m\u001b[0;34m\u001b[0m\u001b[0;34m\u001b[0m\u001b[0m\n\u001b[0m\u001b[1;32m    113\u001b[0m         \u001b[0;32mexcept\u001b[0m \u001b[0mStopIteration\u001b[0m\u001b[0;34m:\u001b[0m\u001b[0;34m\u001b[0m\u001b[0;34m\u001b[0m\u001b[0m\n\u001b[1;32m    114\u001b[0m             \u001b[0;32mraise\u001b[0m \u001b[0mRuntimeError\u001b[0m\u001b[0;34m(\u001b[0m\u001b[0;34m\"generator didn't yield\"\u001b[0m\u001b[0;34m)\u001b[0m \u001b[0;32mfrom\u001b[0m \u001b[0;32mNone\u001b[0m\u001b[0;34m\u001b[0m\u001b[0;34m\u001b[0m\u001b[0m\n",
      "\u001b[0;32m/opt/anaconda3_cv/lib/python3.7/site-packages/xarray/backends/file_manager.py\u001b[0m in \u001b[0;36macquire_context\u001b[0;34m(self, needs_lock)\u001b[0m\n\u001b[1;32m    184\u001b[0m     \u001b[0;32mdef\u001b[0m \u001b[0macquire_context\u001b[0m\u001b[0;34m(\u001b[0m\u001b[0mself\u001b[0m\u001b[0;34m,\u001b[0m \u001b[0mneeds_lock\u001b[0m\u001b[0;34m=\u001b[0m\u001b[0;32mTrue\u001b[0m\u001b[0;34m)\u001b[0m\u001b[0;34m:\u001b[0m\u001b[0;34m\u001b[0m\u001b[0;34m\u001b[0m\u001b[0m\n\u001b[1;32m    185\u001b[0m         \u001b[0;34m\"\"\"Context manager for acquiring a file.\"\"\"\u001b[0m\u001b[0;34m\u001b[0m\u001b[0;34m\u001b[0m\u001b[0m\n\u001b[0;32m--> 186\u001b[0;31m         \u001b[0mfile\u001b[0m\u001b[0;34m,\u001b[0m \u001b[0mcached\u001b[0m \u001b[0;34m=\u001b[0m \u001b[0mself\u001b[0m\u001b[0;34m.\u001b[0m\u001b[0m_acquire_with_cache_info\u001b[0m\u001b[0;34m(\u001b[0m\u001b[0mneeds_lock\u001b[0m\u001b[0;34m)\u001b[0m\u001b[0;34m\u001b[0m\u001b[0;34m\u001b[0m\u001b[0m\n\u001b[0m\u001b[1;32m    187\u001b[0m         \u001b[0;32mtry\u001b[0m\u001b[0;34m:\u001b[0m\u001b[0;34m\u001b[0m\u001b[0;34m\u001b[0m\u001b[0m\n\u001b[1;32m    188\u001b[0m             \u001b[0;32myield\u001b[0m \u001b[0mfile\u001b[0m\u001b[0;34m\u001b[0m\u001b[0;34m\u001b[0m\u001b[0m\n",
      "\u001b[0;32m/opt/anaconda3_cv/lib/python3.7/site-packages/xarray/backends/file_manager.py\u001b[0m in \u001b[0;36m_acquire_with_cache_info\u001b[0;34m(self, needs_lock)\u001b[0m\n\u001b[1;32m    202\u001b[0m                     \u001b[0mkwargs\u001b[0m \u001b[0;34m=\u001b[0m \u001b[0mkwargs\u001b[0m\u001b[0;34m.\u001b[0m\u001b[0mcopy\u001b[0m\u001b[0;34m(\u001b[0m\u001b[0;34m)\u001b[0m\u001b[0;34m\u001b[0m\u001b[0;34m\u001b[0m\u001b[0m\n\u001b[1;32m    203\u001b[0m                     \u001b[0mkwargs\u001b[0m\u001b[0;34m[\u001b[0m\u001b[0;34m\"mode\"\u001b[0m\u001b[0;34m]\u001b[0m \u001b[0;34m=\u001b[0m \u001b[0mself\u001b[0m\u001b[0;34m.\u001b[0m\u001b[0m_mode\u001b[0m\u001b[0;34m\u001b[0m\u001b[0;34m\u001b[0m\u001b[0m\n\u001b[0;32m--> 204\u001b[0;31m                 \u001b[0mfile\u001b[0m \u001b[0;34m=\u001b[0m \u001b[0mself\u001b[0m\u001b[0;34m.\u001b[0m\u001b[0m_opener\u001b[0m\u001b[0;34m(\u001b[0m\u001b[0;34m*\u001b[0m\u001b[0mself\u001b[0m\u001b[0;34m.\u001b[0m\u001b[0m_args\u001b[0m\u001b[0;34m,\u001b[0m \u001b[0;34m**\u001b[0m\u001b[0mkwargs\u001b[0m\u001b[0;34m)\u001b[0m\u001b[0;34m\u001b[0m\u001b[0;34m\u001b[0m\u001b[0m\n\u001b[0m\u001b[1;32m    205\u001b[0m                 \u001b[0;32mif\u001b[0m \u001b[0mself\u001b[0m\u001b[0;34m.\u001b[0m\u001b[0m_mode\u001b[0m \u001b[0;34m==\u001b[0m \u001b[0;34m\"w\"\u001b[0m\u001b[0;34m:\u001b[0m\u001b[0;34m\u001b[0m\u001b[0;34m\u001b[0m\u001b[0m\n\u001b[1;32m    206\u001b[0m                     \u001b[0;31m# ensure file doesn't get overriden when opened again\u001b[0m\u001b[0;34m\u001b[0m\u001b[0;34m\u001b[0m\u001b[0;34m\u001b[0m\u001b[0m\n",
      "\u001b[0;32mnetCDF4/_netCDF4.pyx\u001b[0m in \u001b[0;36mnetCDF4._netCDF4.Dataset.__init__\u001b[0;34m()\u001b[0m\n",
      "\u001b[0;32mnetCDF4/_netCDF4.pyx\u001b[0m in \u001b[0;36mnetCDF4._netCDF4._ensure_nc_success\u001b[0;34m()\u001b[0m\n",
      "\u001b[0;31mFileNotFoundError\u001b[0m: [Errno 2] No such file or directory: b'/raid1/chen423/serdp/archive/GRL2020/data/HIST/WRF_IWV_uvIVT/WRF_IWV_uvIVT.6hr.2005.3.nc'"
     ]
    }
   ],
   "source": [
    "IVT_HIST, IWV_HIST = get_AR_intensity_data('HIST', year, month)\n",
    "\n",
    "IVT_fSST, IWV_fSST = get_AR_intensity_data('fSST', year, month)"
   ]
  },
  {
   "cell_type": "markdown",
   "metadata": {},
   "source": [
    "## 2. SST data in panel a"
   ]
  },
  {
   "cell_type": "code",
   "execution_count": null,
   "metadata": {},
   "outputs": [],
   "source": [
    "infile = rootdir + 'data/HIST/SST_background/NARR_TS.SERDP6km.6hourly.monsum.200310-201512.nc'\n",
    "in_SSTmonmean_full = xr.open_dataset(infile).var11.values[0:144]\n",
    "\n",
    "ts_monthly = pd.period_range(start='2003-10', end='2015-09', freq='M')\n",
    "\n",
    "infile = rootdir + 'data/HIST/SST_background/NARR_TS.SERDP6km.2000.10.01.00.nc'\n",
    "fSST_full = xr.open_dataset(infile).var11.values[0]"
   ]
  },
  {
   "cell_type": "code",
   "execution_count": null,
   "metadata": {},
   "outputs": [],
   "source": [
    "def compute_SSTmean(in_SST):\n",
    "    mask_full = ocean_mask==1\n",
    "    out_SSTmean_all = in_SST[mask_full].mean()\n",
    "    \n",
    "    return out_SSTmean_all"
   ]
  },
  {
   "cell_type": "code",
   "execution_count": null,
   "metadata": {},
   "outputs": [],
   "source": [
    "fSST = compute_SSTmean(fSST_full)"
   ]
  },
  {
   "cell_type": "code",
   "execution_count": null,
   "metadata": {},
   "outputs": [],
   "source": [
    "SSTmean_mseries = np.zeros(144)\n",
    "for i in np.arange(144):\n",
    "    SSTmean_mseries[i] = compute_SSTmean(in_SSTmonmean_full[i])"
   ]
  },
  {
   "cell_type": "code",
   "execution_count": null,
   "metadata": {},
   "outputs": [],
   "source": [
    "SSTmean_mcycle = np.zeros((12,3)) # month, region, [stats]\n",
    "\n",
    "for i in np.arange(12):\n",
    "    valid_index = ts_monthly.month==(i+1)\n",
    "    SSTmean_mcycle[i,0] = SSTmean_mseries[valid_index].mean()+SSTmean_mseries[valid_index].std()/2\n",
    "    SSTmean_mcycle[i,1] = SSTmean_mseries[valid_index].mean()\n",
    "    SSTmean_mcycle[i,2] = SSTmean_mseries[valid_index].mean()-SSTmean_mseries[valid_index].std()/2"
   ]
  },
  {
   "cell_type": "markdown",
   "metadata": {},
   "source": [
    "### major AR-related functions"
   ]
  },
  {
   "cell_type": "raw",
   "metadata": {},
   "source": [
    "2003, 12, 26 woudl be another option, but we did not use that here."
   ]
  },
  {
   "cell_type": "code",
   "execution_count": null,
   "metadata": {},
   "outputs": [],
   "source": [
    "cmap_IVT = generate_NCL_cmap('precip3_16lev', cont_opt=False)\n",
    "#cmap_IVT = matplotlib.cm.PuBuGn\n",
    "#cmap_SST = generate_NCL_cmap('t2m_29lev', cont_opt=True)\n",
    "#cmap_SST = matplotlib.cm.hot\n",
    "cmap_SST = matplotlib.cm.pink"
   ]
  },
  {
   "cell_type": "code",
   "execution_count": null,
   "metadata": {},
   "outputs": [],
   "source": [
    "t = 108   # or 93, for 2003-12 month\n",
    "\n",
    "fig1 = plt.figure(figsize=(7,8))\n",
    "ax1 = plt.subplot2grid((30,2), (9,0), rowspan=20, projection=ccrs.PlateCarree())\n",
    "ax2 = plt.subplot2grid((30,2), (9,1), rowspan=20, projection=ccrs.PlateCarree())\n",
    "ax3 = plt.subplot2grid((30,2), (0,0), rowspan=8, colspan=2)\n",
    "\n",
    "visualize_wUS_map(ax1, wrf_lons, wrf_lats, np.ma.masked_array(IVT_HIST[t], mask=ARtag_HIST[t]==0),\n",
    "                  cmap=cmap_IVT, vmin=200, vmax=700,\n",
    "                  xlim=[-135,-113], ylim=[28,55], wUS_bdy=True)\n",
    "visualize_wUS_map(ax2, wrf_lons, wrf_lats, np.ma.masked_array(IVT_fSST[t], mask=ARtag_HIST[t]==0),\n",
    "                  cmap=cmap_IVT, vmin=200, vmax=700,\n",
    "                  xlim=[-135,-113], ylim=[28,55], wUS_bdy=True)\n",
    "\n",
    "ax1.pcolormesh(wrf_lons, wrf_lats, np.ma.masked_array(SST_HIST[t], mask=ocean_mask==0),\n",
    "               cmap=cmap_SST, vmin=280, vmax=295, alpha=0.5)\n",
    "ax2.pcolormesh(wrf_lons, wrf_lats, np.ma.masked_array(SST_fSST, mask=ocean_mask==0),\n",
    "               cmap=cmap_SST, vmin=280, vmax=295, alpha=0.5)\n",
    "\n",
    "ax1.contour(wrf_lons, wrf_lats, ARtag_HIST[t], cmap='Greys', levels=[0,0.99,1], linewidths=1, zorder=10)\n",
    "ax2.contour(wrf_lons, wrf_lats, ARtag_fSST[t], cmap='Greys', levels=[0,0.99,1], linewidths=1, zorder=10)\n",
    "\n",
    "for axis in [ax1, ax2]:\n",
    "    plot_WRF_domain_boundary(axis, color='k', linestyle='--')\n",
    "    \n",
    "ax3.plot(np.arange(1,13), SSTmean_mcycle[:,1], color='royalblue', label='CTRL (mean)')\n",
    "ax3.fill_between(np.arange(1,13), SSTmean_mcycle[:,0], SSTmean_mcycle[:,2],\n",
    "                 color='royalblue', alpha=0.4, label='CTRL (std)')\n",
    "ax3.plot(np.arange(1,13), np.ones(12)*fSST, color='black', linestyle='-', linewidth=2, label='fSST')\n",
    "ax3.text(12.2, fSST, '%.1f K'%fSST, ha='left', va='center', fontsize=10, rotation=90)\n",
    "for t in np.arange(280, 292, 2):\n",
    "    ax3.plot(np.arange(1,13), np.ones(12)*t, color='grey', linestyle='--', linewidth=1)\n",
    "\n",
    "ax3.legend(loc=(0.55, 0.03), ncol=1, frameon=False, fontsize=12)\n",
    "ax3.set_xlim([1,12])\n",
    "ax3.set_ylim([284, 293])\n",
    "ax3.set_xticks(np.arange(1, 13))\n",
    "ax3.set_yticks(np.arange(284, 292.1, 2))\n",
    "ax3.set_xlabel('month', fontsize=12)\n",
    "ax3.set_ylabel('mean SST (K)', fontsize=12)\n",
    "ax3.spines['right'].set_linewidth(1)\n",
    "ax3.spines['top'].set_linewidth(1)\n",
    "\n",
    "\n",
    "cbar_ax1 = fig1.add_axes([0.12, 0.12, 0.35, 0.015])\n",
    "cb1 = matplotlib.colorbar.ColorbarBase(cbar_ax1, cmap=cmap_IVT, ticks=np.arange(0, 1.001, 0.25), orientation='horizontal')\n",
    "cb1.set_ticklabels(crt_cbar_labels(700, 4, mode='minmax', vmin=200, decimal_flag=0))\n",
    "cbar_ax1.tick_params(labelsize=10)\n",
    "cbar_ax1.text(0.5, 1.5, r'IVT ($kg \\cdot m^{-1}s^{-1}$)', ha='center', va='bottom', fontsize=12)\n",
    "\n",
    "cbar_ax2 = fig1.add_axes([0.55, 0.12, 0.35, 0.015])\n",
    "cb2 = matplotlib.colorbar.ColorbarBase(cbar_ax2, cmap=cmap_SST, ticks=np.arange(0, 1.001, 0.25), orientation='horizontal')\n",
    "cb2.set_ticklabels(crt_cbar_labels(295, 4, mode='minmax', vmin=280, decimal_flag=0))\n",
    "cbar_ax2.tick_params(labelsize=12)\n",
    "cbar_ax2.text(0.5, 1.5, 'SST (K)', ha='center', va='bottom', fontsize=12)\n",
    "\n",
    "ax1.text(-134, 29, '(b)\\nCTRL', ha='left', va='bottom', fontsize=14, backgroundcolor='white')\n",
    "ax2.text(-134, 29, '(c)\\nfSST', ha='left', va='bottom', fontsize=14, backgroundcolor='white')\n",
    "ax3.text(1.2, 292.6, '(a) SST monthly cycle', ha='left', va='top', fontsize=14, backgroundcolor='white')\n",
    "\n",
    "#fig1.savefig(plotdir + 'fig01.schematic_newcolors.png', dpi=600)\n",
    "\n",
    "plt.show()\n",
    "plt.close()\n",
    "del(fig1)"
   ]
  },
  {
   "cell_type": "code",
   "execution_count": null,
   "metadata": {},
   "outputs": [],
   "source": []
  }
 ],
 "metadata": {
  "kernelspec": {
   "display_name": "Python 3",
   "language": "python",
   "name": "python3"
  },
  "language_info": {
   "codemirror_mode": {
    "name": "ipython",
    "version": 3
   },
   "file_extension": ".py",
   "mimetype": "text/x-python",
   "name": "python",
   "nbconvert_exporter": "python",
   "pygments_lexer": "ipython3",
   "version": "3.7.6"
  }
 },
 "nbformat": 4,
 "nbformat_minor": 2
}
